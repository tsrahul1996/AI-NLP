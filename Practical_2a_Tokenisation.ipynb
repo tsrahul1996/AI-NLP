{
  "nbformat": 4,
  "nbformat_minor": 0,
  "metadata": {
    "kernelspec": {
      "display_name": "Python 3",
      "language": "python",
      "name": "python3"
    },
    "language_info": {
      "codemirror_mode": {
        "name": "ipython",
        "version": 3
      },
      "file_extension": ".py",
      "mimetype": "text/x-python",
      "name": "python",
      "nbconvert_exporter": "python",
      "pygments_lexer": "ipython3",
      "version": "3.7.6"
    },
    "colab": {
      "name": "Practical 2a - Tokenisation.ipynb",
      "provenance": [],
      "collapsed_sections": []
    }
  },
  "cells": [
    {
      "cell_type": "markdown",
      "metadata": {
        "id": "RJPjhhW6gtYP"
      },
      "source": [
        "# Tokenisation\n",
        "The first step in creating a `Doc` object is to break down the incoming text into component pieces or \"tokens\".\n",
        "\n",
        "Let's look at the first example shown in the presentation file on Blackboard. "
      ]
    },
    {
      "cell_type": "code",
      "metadata": {
        "id": "o4xuSJr5gtYR"
      },
      "source": [
        "# Import spaCy and load the English language library\n",
        "import spacy\n",
        "# This will take a while to load initially\n",
        "nlp = spacy.load(\"en_core_web_sm\")"
      ],
      "execution_count": 1,
      "outputs": []
    },
    {
      "cell_type": "code",
      "metadata": {
        "id": "zn59mFykgtYS",
        "colab": {
          "base_uri": "https://localhost:8080/"
        },
        "outputId": "3b45edbe-4fe5-4ed2-a59e-6b54127352f7"
      },
      "source": [
        "# The text is within \"\" which we want to display and therefore we need to use the \\ character to identify that\n",
        "# some of the single quote marks are not the end of the sentence\n",
        "\n",
        "# SpaCy works with doc objects. This doc object is called \"sentence\"\n",
        "sentence = '\"Mr. O\\'Neill thinks that the boys\\' stories about Chile\\'s capital aren\\'t amusing.\"'\n",
        "print (sentence)"
      ],
      "execution_count": 2,
      "outputs": [
        {
          "output_type": "stream",
          "text": [
            "\"Mr. O'Neill thinks that the boys' stories about Chile's capital aren't amusing.\"\n"
          ],
          "name": "stdout"
        }
      ]
    },
    {
      "cell_type": "markdown",
      "metadata": {
        "id": "zkj-lPkogtYT"
      },
      "source": [
        "Now we'll examine each of the tokens for our sentence. Refer to the slides on Blackboard for further information."
      ]
    },
    {
      "cell_type": "code",
      "metadata": {
        "id": "eqEtCMyKgtYT",
        "colab": {
          "base_uri": "https://localhost:8080/"
        },
        "outputId": "fc9bfbcc-0447-46ce-93db-e6546bdfba64"
      },
      "source": [
        "nlp_sentence = nlp(sentence)\n",
        "for token in nlp_sentence:\n",
        "    print (token.text)"
      ],
      "execution_count": 3,
      "outputs": [
        {
          "output_type": "stream",
          "text": [
            "\"\n",
            "Mr.\n",
            "O'Neill\n",
            "thinks\n",
            "that\n",
            "the\n",
            "boys\n",
            "'\n",
            "stories\n",
            "about\n",
            "Chile\n",
            "'s\n",
            "capital\n",
            "are\n",
            "n't\n",
            "amusing\n",
            ".\n",
            "\"\n"
          ],
          "name": "stdout"
        }
      ]
    },
    {
      "cell_type": "markdown",
      "metadata": {
        "id": "NNgoXOBcgtYU"
      },
      "source": [
        "Note that the sentence is split on punctuation, and the word **boys'** , **Chile's** and **aren't** are now split and are assigned their own tokens. The prefix and suffix have also been assigned individual tokens. The **.** for the word **Mr.** has remained part of this word. SpaCy was able to determine that the **.** is part of the **Mr.** title."
      ]
    },
    {
      "cell_type": "code",
      "metadata": {
        "id": "m2ZegaYagtYU",
        "colab": {
          "base_uri": "https://localhost:8080/"
        },
        "outputId": "cbd160f5-a7e2-45d9-bca7-3a2568f37038"
      },
      "source": [
        "nlp_sentence = nlp(sentence)\n",
        "\n",
        "# Show the tokens of the sentence and use\n",
        "# the \"|\" between each token for additional clarification\n",
        "for token in nlp_sentence:\n",
        "    print (token.text, token.pos_, end = \" | \")"
      ],
      "execution_count": 4,
      "outputs": [
        {
          "output_type": "stream",
          "text": [
            "\" PUNCT | Mr. PROPN | O'Neill PROPN | thinks VERB | that SCONJ | the DET | boys NOUN | ' PART | stories NOUN | about ADP | Chile PROPN | 's PART | capital NOUN | are AUX | n't PART | amusing ADJ | . PUNCT | \" PUNCT | "
          ],
          "name": "stdout"
        }
      ]
    },
    {
      "cell_type": "markdown",
      "metadata": {
        "id": "uyeJoxoxgtYV"
      },
      "source": [
        "Lets look at a more difficult sentence that includes **.** within the time elements, and **.** within the web address."
      ]
    },
    {
      "cell_type": "code",
      "metadata": {
        "id": "YYnc6CcdgtYV"
      },
      "source": [
        "sentence = \"It is best to access our website from 9 a.m. to 1 p.m. every weekend. The address is www.mywebsite.ie.\""
      ],
      "execution_count": 5,
      "outputs": []
    },
    {
      "cell_type": "code",
      "metadata": {
        "id": "ZvnZ55uYgtYV"
      },
      "source": [
        "doc_object = nlp(sentence)"
      ],
      "execution_count": 6,
      "outputs": []
    },
    {
      "cell_type": "code",
      "metadata": {
        "id": "zPhbHTZEgtYW",
        "colab": {
          "base_uri": "https://localhost:8080/"
        },
        "outputId": "cb2bc76b-c6b3-4be7-a5da-690936ec6e68"
      },
      "source": [
        "for token in doc_object:\n",
        "    print (token)"
      ],
      "execution_count": 7,
      "outputs": [
        {
          "output_type": "stream",
          "text": [
            "It\n",
            "is\n",
            "best\n",
            "to\n",
            "access\n",
            "our\n",
            "website\n",
            "from\n",
            "9\n",
            "a.m.\n",
            "to\n",
            "1\n",
            "p.m.\n",
            "every\n",
            "weekend\n",
            ".\n",
            "The\n",
            "address\n",
            "is\n",
            "www.mywebsite.ie\n",
            ".\n"
          ],
          "name": "stdout"
        }
      ]
    },
    {
      "cell_type": "markdown",
      "metadata": {
        "id": "9B98Ux3IgtYW"
      },
      "source": [
        "SpaCy tokenises all words as expected, including the **.**. It also separates out the **.** at the end of the sentence as a **suffix** compared to the **.** in the middle of the web address.\n",
        "\n",
        "Spacy can detect the difference between units such as distance and cost. Here's an example."
      ]
    },
    {
      "cell_type": "code",
      "metadata": {
        "id": "WIL3NdFDgtYW",
        "colab": {
          "base_uri": "https://localhost:8080/"
        },
        "outputId": "7aaf62cc-e8e2-4166-8cbb-7aa052ce3d3d"
      },
      "source": [
        "sentence = \"I live about 20km from here. A taxi will cost around £50.\"\n",
        "doc_object = nlp(sentence)\n",
        "\n",
        "for token in doc_object:\n",
        "    print (token)"
      ],
      "execution_count": 8,
      "outputs": [
        {
          "output_type": "stream",
          "text": [
            "I\n",
            "live\n",
            "about\n",
            "20\n",
            "km\n",
            "from\n",
            "here\n",
            ".\n",
            "A\n",
            "taxi\n",
            "will\n",
            "cost\n",
            "around\n",
            "£\n",
            "50\n",
            ".\n"
          ],
          "name": "stdout"
        }
      ]
    },
    {
      "cell_type": "markdown",
      "metadata": {
        "id": "6UB7VOxMgtYd"
      },
      "source": [
        "## Counting Tokens\n",
        "`Doc` objects have a set number of tokens:"
      ]
    },
    {
      "cell_type": "code",
      "metadata": {
        "id": "PvyDz1-xgtYd",
        "colab": {
          "base_uri": "https://localhost:8080/"
        },
        "outputId": "a7f5d15b-b01a-42f8-83b4-8e9368b7713a"
      },
      "source": [
        "# Number of tokens in our sentence\n",
        "len (doc_object)"
      ],
      "execution_count": 9,
      "outputs": [
        {
          "output_type": "execute_result",
          "data": {
            "text/plain": [
              "16"
            ]
          },
          "metadata": {
            "tags": []
          },
          "execution_count": 9
        }
      ]
    },
    {
      "cell_type": "markdown",
      "metadata": {
        "id": "DNzSHqdbgtYe"
      },
      "source": [
        "A language library contains individual `vocab` objects. The number of vocab objects in a library can vary for each language and can change when we add new `vocab` objects called `lexemes` to a language library."
      ]
    },
    {
      "cell_type": "code",
      "metadata": {
        "id": "1ttMbfT-gtYe",
        "colab": {
          "base_uri": "https://localhost:8080/"
        },
        "outputId": "72c49351-5fb6-42f5-a746-41d0d1f1506d"
      },
      "source": [
        "# Count the number of vocab objects in the currently loaded language library\n",
        "# This is from the en_core_web_sm library\n",
        "# Use en_core_web_lg for larger library\n",
        "len (doc_object.vocab)"
      ],
      "execution_count": 10,
      "outputs": [
        {
          "output_type": "execute_result",
          "data": {
            "text/plain": [
              "511"
            ]
          },
          "metadata": {
            "tags": []
          },
          "execution_count": 10
        }
      ]
    },
    {
      "cell_type": "markdown",
      "metadata": {
        "id": "EyjyOcsygtYe"
      },
      "source": [
        "## Retrieve token by index position and slice\n",
        "`Doc` objects can be thought of as lists of `token` objects. As such, individual tokens can be retrieved by index position, and spans of tokens can be retrieved through slicing, just as shown in the previous notebook.\n",
        "\n",
        "Let's enter the text into a `doc` object and then show the contents of the sentence."
      ]
    },
    {
      "cell_type": "code",
      "metadata": {
        "id": "vqvB4nC7gtYe",
        "colab": {
          "base_uri": "https://localhost:8080/"
        },
        "outputId": "b78ce6e2-591d-4103-8c3f-1d57949492f6"
      },
      "source": [
        "doc = nlp(u\"I really like working with words!\")\n",
        "\n",
        "# Print each token\n",
        "for token in doc:\n",
        "    print (token)"
      ],
      "execution_count": 11,
      "outputs": [
        {
          "output_type": "stream",
          "text": [
            "I\n",
            "really\n",
            "like\n",
            "working\n",
            "with\n",
            "words\n",
            "!\n"
          ],
          "name": "stdout"
        }
      ]
    },
    {
      "cell_type": "markdown",
      "metadata": {
        "id": "R7XNdZJagtYf"
      },
      "source": [
        "Now I'll extract some tokens from the sentence. Note that the indexer starts at 0, and all tokens such as suffix count as a token position."
      ]
    },
    {
      "cell_type": "code",
      "metadata": {
        "id": "3jKoWABRgtYf",
        "colab": {
          "base_uri": "https://localhost:8080/"
        },
        "outputId": "3bfa2eda-3f70-46e5-ff4d-e5e016a4613a"
      },
      "source": [
        "# Retrieve the first token\n",
        "doc[0]"
      ],
      "execution_count": 12,
      "outputs": [
        {
          "output_type": "execute_result",
          "data": {
            "text/plain": [
              "I"
            ]
          },
          "metadata": {
            "tags": []
          },
          "execution_count": 12
        }
      ]
    },
    {
      "cell_type": "code",
      "metadata": {
        "id": "X-6A1FibgtYf",
        "colab": {
          "base_uri": "https://localhost:8080/"
        },
        "outputId": "80aa3061-21cb-44db-d61d-fca4c0f3bf5a"
      },
      "source": [
        "# Retrieve the 3rd to 6th token\n",
        "doc[3:6]"
      ],
      "execution_count": 13,
      "outputs": [
        {
          "output_type": "execute_result",
          "data": {
            "text/plain": [
              "working with words"
            ]
          },
          "metadata": {
            "tags": []
          },
          "execution_count": 13
        }
      ]
    },
    {
      "cell_type": "code",
      "metadata": {
        "id": "o0-c2O8tgtYf",
        "colab": {
          "base_uri": "https://localhost:8080/"
        },
        "outputId": "8be7f434-4130-4abf-931e-277f488ba5de"
      },
      "source": [
        "# Retrieve the last 2 tokens\n",
        "doc[-2:]"
      ],
      "execution_count": 14,
      "outputs": [
        {
          "output_type": "execute_result",
          "data": {
            "text/plain": [
              "words!"
            ]
          },
          "metadata": {
            "tags": []
          },
          "execution_count": 14
        }
      ]
    },
    {
      "cell_type": "markdown",
      "metadata": {
        "id": "zruTmu2XgtYg"
      },
      "source": [
        "We cannot re-assign individual tokens with new values. For example, this example is not possible. \n",
        "\n",
        "Remember that Spacy has already generated a lot of calculations on your text, so an item reassignment is going to cause issues with these."
      ]
    },
    {
      "cell_type": "code",
      "metadata": {
        "scrolled": true,
        "id": "mf8IEnF3gtYg",
        "colab": {
          "base_uri": "https://localhost:8080/",
          "height": 164
        },
        "outputId": "e539ddb3-3ce6-4ddb-9c67-889cfeba6524"
      },
      "source": [
        "doc[2] = \"Do not\""
      ],
      "execution_count": 15,
      "outputs": [
        {
          "output_type": "error",
          "ename": "TypeError",
          "evalue": "ignored",
          "traceback": [
            "\u001b[0;31m---------------------------------------------------------------------------\u001b[0m",
            "\u001b[0;31mTypeError\u001b[0m                                 Traceback (most recent call last)",
            "\u001b[0;32m<ipython-input-15-602823364da0>\u001b[0m in \u001b[0;36m<module>\u001b[0;34m()\u001b[0m\n\u001b[0;32m----> 1\u001b[0;31m \u001b[0mdoc\u001b[0m\u001b[0;34m[\u001b[0m\u001b[0;36m2\u001b[0m\u001b[0;34m]\u001b[0m \u001b[0;34m=\u001b[0m \u001b[0;34m\"Do not\"\u001b[0m\u001b[0;34m\u001b[0m\u001b[0;34m\u001b[0m\u001b[0m\n\u001b[0m",
            "\u001b[0;31mTypeError\u001b[0m: 'spacy.tokens.doc.Doc' object does not support item assignment"
          ]
        }
      ]
    },
    {
      "cell_type": "markdown",
      "metadata": {
        "id": "EELXbLtEgtYg"
      },
      "source": [
        "# Named Entity Recognition (NER)\n",
        "Going a step beyond tokens, **named entities** add another layer of context. A named entity is a **real-world object** that’s assigned a name – for example, a person, a country, a product, a date, money, a book title etc.\n",
        "\n",
        "spaCy can recognise various types of named entities in a document, by asking the language model for a prediction.\n",
        "\n",
        "Named entities are accessible through the `ents` property of a `Doc` object."
      ]
    },
    {
      "cell_type": "code",
      "metadata": {
        "id": "2pIeni93gtYh",
        "colab": {
          "base_uri": "https://localhost:8080/"
        },
        "outputId": "8a0cbe48-c3a3-419c-dca0-0ac5b4758a53"
      },
      "source": [
        "doc_object = nlp(u\"Samsung in Ireland are pleased with their new folding screen that they released after a large $9 million investment.\")\n",
        "\n",
        "for token in doc_object:\n",
        "    # show the token followed by a separator\n",
        "    print (token, end = \" | \")"
      ],
      "execution_count": 37,
      "outputs": [
        {
          "output_type": "stream",
          "text": [
            "Samsung | in | Ireland | are | pleased | with | their | new | folding | screen | that | they | released | after | a | large | $ | 9 | million | investment | . | "
          ],
          "name": "stdout"
        }
      ]
    },
    {
      "cell_type": "markdown",
      "metadata": {
        "id": "-StLC_STgtYh"
      },
      "source": [
        "We can view the named entities in the doc object with the following code:"
      ]
    },
    {
      "cell_type": "code",
      "metadata": {
        "id": "F52WoCX_gtYh",
        "colab": {
          "base_uri": "https://localhost:8080/"
        },
        "outputId": "e7fcb7e6-2452-4817-9353-092bfdfeb92f"
      },
      "source": [
        "for entity in doc_object.ents:\n",
        "    print (entity)"
      ],
      "execution_count": 38,
      "outputs": [
        {
          "output_type": "stream",
          "text": [
            "Samsung\n",
            "Ireland\n",
            "$9 million\n"
          ],
          "name": "stdout"
        }
      ]
    },
    {
      "cell_type": "markdown",
      "metadata": {
        "id": "h3jVVhUXgtYh"
      },
      "source": [
        "SpaCy has recognised that these tokens are named entities and there are more context to these tokens. They are similar to nouns.\n",
        "\n",
        "We can view the label for each named entity and see what entity spaCy has assigned to each named entity."
      ]
    },
    {
      "cell_type": "code",
      "metadata": {
        "id": "CraSLUxMgtYi",
        "colab": {
          "base_uri": "https://localhost:8080/"
        },
        "outputId": "0b0a4ad6-5ec4-46fe-8624-e18cb8fde7b2"
      },
      "source": [
        "for entity in doc_object.ents:\n",
        "    # Show the entity and its general label\n",
        "    print (entity, entity.label_)"
      ],
      "execution_count": 27,
      "outputs": [
        {
          "output_type": "stream",
          "text": [
            "Samsung ORG\n",
            "Ireland GPE\n",
            "$9 million MONEY\n"
          ],
          "name": "stdout"
        }
      ]
    },
    {
      "cell_type": "markdown",
      "metadata": {
        "id": "UK7S-8H3gtYi"
      },
      "source": [
        "We can show more detail on each entity label. All this is generated automatically through spaCy."
      ]
    },
    {
      "cell_type": "code",
      "metadata": {
        "id": "mq05mlJCgtYi",
        "colab": {
          "base_uri": "https://localhost:8080/"
        },
        "outputId": "247cad31-5ede-41d0-dbff-d2b486b6d4f3"
      },
      "source": [
        "for entity in doc_object.ents:\n",
        "    # Show the entity and its general label\n",
        "    # and show a full description on each named entity\n",
        "    # using the spacy.explain command\n",
        "    print (entity, entity.label_, spacy.explain(entity.label_))"
      ],
      "execution_count": 28,
      "outputs": [
        {
          "output_type": "stream",
          "text": [
            "Samsung ORG Companies, agencies, institutions, etc.\n",
            "Ireland GPE Countries, cities, states\n",
            "$9 million MONEY Monetary values, including unit\n"
          ],
          "name": "stdout"
        }
      ]
    },
    {
      "cell_type": "markdown",
      "metadata": {
        "id": "USW1ttvAgtYi"
      },
      "source": [
        "If a named entity does not exist, the `show_ents` function will not work. For example, the word **car** is not automatically recognised as a named entity."
      ]
    },
    {
      "cell_type": "code",
      "metadata": {
        "id": "P5w-dc9egtYi"
      },
      "source": [
        "doc_object = nlp(u\"I like my car\")\n",
        "for entity in doc_object.ents:\n",
        "    # Show the entity and its general label\n",
        "    print (entity, entity.label_)"
      ],
      "execution_count": 41,
      "outputs": []
    },
    {
      "cell_type": "markdown",
      "metadata": {
        "id": "CvS36MgKgtYj"
      },
      "source": [
        "I'm creating a new function called **show_entity_info** that will accept a `doc object` and display relevant entity information. I'll also check whether entity information exists or not."
      ]
    },
    {
      "cell_type": "code",
      "metadata": {
        "id": "XiphD9cAgtYj"
      },
      "source": [
        "# Create a function to display entity information from a doc_object\n",
        "def show_entity_info(doc_object):\n",
        "    if doc_object:\n",
        "        for entity in doc_object.ents:\n",
        "            print(f\"{entity.text} {entity.label_:{20}} {spacy.explain(entity.label_)}\")\n",
        "    else:\n",
        "        print(f\"No entities found in text.\")"
      ],
      "execution_count": 32,
      "outputs": []
    },
    {
      "cell_type": "code",
      "metadata": {
        "colab": {
          "base_uri": "https://localhost:8080/"
        },
        "id": "o9ISfNTqiXDt",
        "outputId": "e112b207-4220-41d6-e244-6694a74ebebd"
      },
      "source": [
        "doc_object = nlp(u\"Samsung in Ireland are pleased with their new folding screen that they released after a large $9 million investment.\")\r\n",
        "show_entity_info(doc_object)"
      ],
      "execution_count": 42,
      "outputs": [
        {
          "output_type": "stream",
          "text": [
            "Samsung ORG                  Companies, agencies, institutions, etc.\n",
            "Ireland GPE                  Countries, cities, states\n",
            "$9 million MONEY                Monetary values, including unit\n"
          ],
          "name": "stdout"
        }
      ]
    },
    {
      "cell_type": "markdown",
      "metadata": {
        "id": "zKu6rsq7gtYj"
      },
      "source": [
        "# Noun Chunks\n",
        "Similar to NER `Doc.ents`, `Doc.noun_chunks` are another object property. *Noun chunks* are **base noun phrases** – flat phrases that have a noun as their head. You can think of noun chunks as a noun plus the words describing the noun – for example, a *\"the lavish green grass\"* would be one noun chunk.\n",
        "\n",
        "`spaCy` uses the terms **head** and **child** to describe the words connected by a single arc in the **dependency tree**. The term **dep** is used for the arc label, which describes the type of syntactic relation that connects the child to the head. \n",
        "\n",
        "Lets have a look at an example. I'll then demonstrate how we can use a visualiser to demonstrate this information. "
      ]
    },
    {
      "cell_type": "code",
      "metadata": {
        "id": "DIztLjjlgtYk",
        "colab": {
          "base_uri": "https://localhost:8080/"
        },
        "outputId": "338510bb-07aa-49e8-9c86-2a128a525cff"
      },
      "source": [
        "doc_object = nlp(\"Autonomous cars shift insurance liability toward manufacturers\")\n",
        "\n",
        "# Create header text for table output\n",
        "column1 = \"Text\"\n",
        "column2 = \"Root text\"\n",
        "column3 = \"Root dependency\"\n",
        "column4 = \"Root head text\"\n",
        "# Show the header for the table output\n",
        "print (f\"{column1:25} {column2:20} {column3:25} {column4:20}\")\n",
        "# Show relevant detail for each noun chunk in the text\n",
        "for chunk in doc_object.noun_chunks:\n",
        "    print(f\"{chunk.text:{25}} {chunk.root.text:{20}} {spacy.explain(chunk.root.dep_):{25}} {chunk.root.head.text:{20}}\")"
      ],
      "execution_count": 43,
      "outputs": [
        {
          "output_type": "stream",
          "text": [
            "Text                      Root text            Root dependency           Root head text      \n",
            "Autonomous cars           cars                 nominal subject           shift               \n",
            "insurance liability       liability            direct object             shift               \n",
            "manufacturers             manufacturers        object of preposition     toward              \n"
          ],
          "name": "stdout"
        }
      ]
    },
    {
      "cell_type": "markdown",
      "metadata": {
        "id": "Iy0meVVggtYk"
      },
      "source": [
        "The noun **cars** is described by the word **autonomous**. Both words are referred to as a **noun chunk**. Similarly the  noun **liability** is described by the word **insurance**. So again both words are described as a **noun chunk**. **Insurnce** is a noun, and is also called a **noun chunk** even though it does not have any discriptive text associated with it.\n",
        "\n",
        "\n",
        "In the table above, the **Text** column represents the original noun chunk text.\n",
        "\n",
        "The **Root text** column is the original text of the word connecting the noun chunk to the rest of the parse.\n",
        "\n",
        "The **Root dependency** column is the dependency relation connecting the root to its head.\n",
        "\n",
        "The **Root head text** is the text of the root token’s head.\n",
        "\n",
        "For more info on **noun_chunks** visit https://spacy.io/usage/linguistic-features#noun-chunks"
      ]
    },
    {
      "cell_type": "markdown",
      "metadata": {
        "id": "izyJg0lagtYk"
      },
      "source": [
        "## displaCy Built-in Visualiser\n",
        "\n",
        "spaCy includes a built-in visualisation tool called `displaCy`. `displaCy` is able to detect whether you're working in a Jupyter notebook, and will return markup that can be rendered in a cell right away. When you export your notebook, the visualizations will be included as HTML.\n",
        "\n",
        "Let's examine the dependencies of our sentence visually.\n",
        "\n",
        "Note that we can show the sentence dependencies using the `style=\"dep\"` option and the sentence entities using the `style=\"ent\"` option."
      ]
    },
    {
      "cell_type": "code",
      "metadata": {
        "id": "80WpSoeBgtYl"
      },
      "source": [
        "from spacy import displacy"
      ],
      "execution_count": 53,
      "outputs": []
    },
    {
      "cell_type": "code",
      "metadata": {
        "id": "i6Abv2IjgtYl"
      },
      "source": [
        "doc_object = nlp(u\"Autonomous cars shift insurance liability toward manufacturers\")"
      ],
      "execution_count": 54,
      "outputs": []
    },
    {
      "cell_type": "code",
      "metadata": {
        "id": "tzURAgGrgtYl",
        "colab": {
          "base_uri": "https://localhost:8080/",
          "height": 258
        },
        "outputId": "fd95335d-083e-42d9-f574-a2506f7295c9"
      },
      "source": [
        "# Command to display the sentence. Be careful of the case with the word \"True\"\n",
        "# Style set to \"dep\" means display dependencies\n",
        "displacy.render(doc_object, style=\"dep\", jupyter=True, options={\"distance\":100} )"
      ],
      "execution_count": 55,
      "outputs": [
        {
          "output_type": "display_data",
          "data": {
            "text/html": [
              "<span class=\"tex2jax_ignore\"><svg xmlns=\"http://www.w3.org/2000/svg\" xmlns:xlink=\"http://www.w3.org/1999/xlink\" xml:lang=\"en\" id=\"4a4c5ea30ffa444c99264c7027863201-0\" class=\"displacy\" width=\"750\" height=\"237.0\" direction=\"ltr\" style=\"max-width: none; height: 237.0px; color: #000000; background: #ffffff; font-family: Arial; direction: ltr\">\n",
              "<text class=\"displacy-token\" fill=\"currentColor\" text-anchor=\"middle\" y=\"147.0\">\n",
              "    <tspan class=\"displacy-word\" fill=\"currentColor\" x=\"50\">Autonomous</tspan>\n",
              "    <tspan class=\"displacy-tag\" dy=\"2em\" fill=\"currentColor\" x=\"50\">ADJ</tspan>\n",
              "</text>\n",
              "\n",
              "<text class=\"displacy-token\" fill=\"currentColor\" text-anchor=\"middle\" y=\"147.0\">\n",
              "    <tspan class=\"displacy-word\" fill=\"currentColor\" x=\"150\">cars</tspan>\n",
              "    <tspan class=\"displacy-tag\" dy=\"2em\" fill=\"currentColor\" x=\"150\">NOUN</tspan>\n",
              "</text>\n",
              "\n",
              "<text class=\"displacy-token\" fill=\"currentColor\" text-anchor=\"middle\" y=\"147.0\">\n",
              "    <tspan class=\"displacy-word\" fill=\"currentColor\" x=\"250\">shift</tspan>\n",
              "    <tspan class=\"displacy-tag\" dy=\"2em\" fill=\"currentColor\" x=\"250\">VERB</tspan>\n",
              "</text>\n",
              "\n",
              "<text class=\"displacy-token\" fill=\"currentColor\" text-anchor=\"middle\" y=\"147.0\">\n",
              "    <tspan class=\"displacy-word\" fill=\"currentColor\" x=\"350\">insurance</tspan>\n",
              "    <tspan class=\"displacy-tag\" dy=\"2em\" fill=\"currentColor\" x=\"350\">NOUN</tspan>\n",
              "</text>\n",
              "\n",
              "<text class=\"displacy-token\" fill=\"currentColor\" text-anchor=\"middle\" y=\"147.0\">\n",
              "    <tspan class=\"displacy-word\" fill=\"currentColor\" x=\"450\">liability</tspan>\n",
              "    <tspan class=\"displacy-tag\" dy=\"2em\" fill=\"currentColor\" x=\"450\">NOUN</tspan>\n",
              "</text>\n",
              "\n",
              "<text class=\"displacy-token\" fill=\"currentColor\" text-anchor=\"middle\" y=\"147.0\">\n",
              "    <tspan class=\"displacy-word\" fill=\"currentColor\" x=\"550\">toward</tspan>\n",
              "    <tspan class=\"displacy-tag\" dy=\"2em\" fill=\"currentColor\" x=\"550\">ADP</tspan>\n",
              "</text>\n",
              "\n",
              "<text class=\"displacy-token\" fill=\"currentColor\" text-anchor=\"middle\" y=\"147.0\">\n",
              "    <tspan class=\"displacy-word\" fill=\"currentColor\" x=\"650\">manufacturers</tspan>\n",
              "    <tspan class=\"displacy-tag\" dy=\"2em\" fill=\"currentColor\" x=\"650\">NOUN</tspan>\n",
              "</text>\n",
              "\n",
              "<g class=\"displacy-arrow\">\n",
              "    <path class=\"displacy-arc\" id=\"arrow-4a4c5ea30ffa444c99264c7027863201-0-0\" stroke-width=\"2px\" d=\"M70,102.0 C70,52.0 145.0,52.0 145.0,102.0\" fill=\"none\" stroke=\"currentColor\"/>\n",
              "    <text dy=\"1.25em\" style=\"font-size: 0.8em; letter-spacing: 1px\">\n",
              "        <textPath xlink:href=\"#arrow-4a4c5ea30ffa444c99264c7027863201-0-0\" class=\"displacy-label\" startOffset=\"50%\" side=\"left\" fill=\"currentColor\" text-anchor=\"middle\">amod</textPath>\n",
              "    </text>\n",
              "    <path class=\"displacy-arrowhead\" d=\"M70,104.0 L62,92.0 78,92.0\" fill=\"currentColor\"/>\n",
              "</g>\n",
              "\n",
              "<g class=\"displacy-arrow\">\n",
              "    <path class=\"displacy-arc\" id=\"arrow-4a4c5ea30ffa444c99264c7027863201-0-1\" stroke-width=\"2px\" d=\"M170,102.0 C170,52.0 245.0,52.0 245.0,102.0\" fill=\"none\" stroke=\"currentColor\"/>\n",
              "    <text dy=\"1.25em\" style=\"font-size: 0.8em; letter-spacing: 1px\">\n",
              "        <textPath xlink:href=\"#arrow-4a4c5ea30ffa444c99264c7027863201-0-1\" class=\"displacy-label\" startOffset=\"50%\" side=\"left\" fill=\"currentColor\" text-anchor=\"middle\">nsubj</textPath>\n",
              "    </text>\n",
              "    <path class=\"displacy-arrowhead\" d=\"M170,104.0 L162,92.0 178,92.0\" fill=\"currentColor\"/>\n",
              "</g>\n",
              "\n",
              "<g class=\"displacy-arrow\">\n",
              "    <path class=\"displacy-arc\" id=\"arrow-4a4c5ea30ffa444c99264c7027863201-0-2\" stroke-width=\"2px\" d=\"M370,102.0 C370,52.0 445.0,52.0 445.0,102.0\" fill=\"none\" stroke=\"currentColor\"/>\n",
              "    <text dy=\"1.25em\" style=\"font-size: 0.8em; letter-spacing: 1px\">\n",
              "        <textPath xlink:href=\"#arrow-4a4c5ea30ffa444c99264c7027863201-0-2\" class=\"displacy-label\" startOffset=\"50%\" side=\"left\" fill=\"currentColor\" text-anchor=\"middle\">compound</textPath>\n",
              "    </text>\n",
              "    <path class=\"displacy-arrowhead\" d=\"M370,104.0 L362,92.0 378,92.0\" fill=\"currentColor\"/>\n",
              "</g>\n",
              "\n",
              "<g class=\"displacy-arrow\">\n",
              "    <path class=\"displacy-arc\" id=\"arrow-4a4c5ea30ffa444c99264c7027863201-0-3\" stroke-width=\"2px\" d=\"M270,102.0 C270,2.0 450.0,2.0 450.0,102.0\" fill=\"none\" stroke=\"currentColor\"/>\n",
              "    <text dy=\"1.25em\" style=\"font-size: 0.8em; letter-spacing: 1px\">\n",
              "        <textPath xlink:href=\"#arrow-4a4c5ea30ffa444c99264c7027863201-0-3\" class=\"displacy-label\" startOffset=\"50%\" side=\"left\" fill=\"currentColor\" text-anchor=\"middle\">dobj</textPath>\n",
              "    </text>\n",
              "    <path class=\"displacy-arrowhead\" d=\"M450.0,104.0 L458.0,92.0 442.0,92.0\" fill=\"currentColor\"/>\n",
              "</g>\n",
              "\n",
              "<g class=\"displacy-arrow\">\n",
              "    <path class=\"displacy-arc\" id=\"arrow-4a4c5ea30ffa444c99264c7027863201-0-4\" stroke-width=\"2px\" d=\"M470,102.0 C470,52.0 545.0,52.0 545.0,102.0\" fill=\"none\" stroke=\"currentColor\"/>\n",
              "    <text dy=\"1.25em\" style=\"font-size: 0.8em; letter-spacing: 1px\">\n",
              "        <textPath xlink:href=\"#arrow-4a4c5ea30ffa444c99264c7027863201-0-4\" class=\"displacy-label\" startOffset=\"50%\" side=\"left\" fill=\"currentColor\" text-anchor=\"middle\">prep</textPath>\n",
              "    </text>\n",
              "    <path class=\"displacy-arrowhead\" d=\"M545.0,104.0 L553.0,92.0 537.0,92.0\" fill=\"currentColor\"/>\n",
              "</g>\n",
              "\n",
              "<g class=\"displacy-arrow\">\n",
              "    <path class=\"displacy-arc\" id=\"arrow-4a4c5ea30ffa444c99264c7027863201-0-5\" stroke-width=\"2px\" d=\"M570,102.0 C570,52.0 645.0,52.0 645.0,102.0\" fill=\"none\" stroke=\"currentColor\"/>\n",
              "    <text dy=\"1.25em\" style=\"font-size: 0.8em; letter-spacing: 1px\">\n",
              "        <textPath xlink:href=\"#arrow-4a4c5ea30ffa444c99264c7027863201-0-5\" class=\"displacy-label\" startOffset=\"50%\" side=\"left\" fill=\"currentColor\" text-anchor=\"middle\">pobj</textPath>\n",
              "    </text>\n",
              "    <path class=\"displacy-arrowhead\" d=\"M645.0,104.0 L653.0,92.0 637.0,92.0\" fill=\"currentColor\"/>\n",
              "</g>\n",
              "</svg></span>"
            ],
            "text/plain": [
              "<IPython.core.display.HTML object>"
            ]
          },
          "metadata": {
            "tags": []
          }
        }
      ]
    },
    {
      "cell_type": "markdown",
      "metadata": {
        "id": "Fsy985C0gtYm"
      },
      "source": [
        "The `options` command in the `dispacy.render` function allows us to modify various things in the diagram that is output by the visualisation tool. Here's a list of the settings availabe to us. Also see this link for more inforamtion on the dispacy visualiser https://spacy.io/api/top-level#displacy_options"
      ]
    },
    {
      "cell_type": "markdown",
      "metadata": {
        "id": "GIr8VeaegtYm"
      },
      "source": [
        "<tr class=\"_8a68569b\"><th class=\"_2e8d2972\">Name</th><th class=\"_2e8d2972\">Type</th><th class=\"_2e8d2972\">Description</th><th class=\"_2e8d2972\">Default</th></tr>\n",
        "\n",
        "<tr class=\"_8a68569b\"><td class=\"_5c99da9a\"><code class=\"_1d7c6046\">fine_grained</code></td><td class=\"_5c99da9a\">bool</td><td class=\"_5c99da9a\">Use fine-grained part-of-speech tags (<code class=\"_1d7c6046\">Token.tag_</code>) instead of coarse-grained tags (<code class=\"_1d7c6046\">Token.pos_</code>).</td><td class=\"_5c99da9a\"><code class=\"_1d7c6046\">False</code></td></tr><tr class=\"_8a68569b\"><td class=\"_5c99da9a\"><code class=\"_1d7c6046\">collapse_punct</code></td><td class=\"_5c99da9a\">bool</td><td class=\"_5c99da9a\">Attach punctuation to tokens. Can make the parse more readable, as it prevents long arcs to attach punctuation.</td><td class=\"_5c99da9a\"><code class=\"_1d7c6046\">True</code></td></tr><tr class=\"_8a68569b\"><td class=\"_5c99da9a\"><code class=\"_1d7c6046\">collapse_phrases</code></td><td class=\"_5c99da9a\">bool</td><td class=\"_5c99da9a\">Merge noun phrases into one token.</td><td class=\"_5c99da9a\"><code class=\"_1d7c6046\">False</code></td></tr><tr class=\"_8a68569b\"><td class=\"_5c99da9a\"><code class=\"_1d7c6046\">compact</code></td><td class=\"_5c99da9a\">bool</td><td class=\"_5c99da9a\">“Compact mode” with square arrows that takes up less space.</td><td class=\"_5c99da9a\"><code class=\"_1d7c6046\">False</code></td></tr><tr class=\"_8a68569b\"><td class=\"_5c99da9a\"><code class=\"_1d7c6046\">color</code></td><td class=\"_5c99da9a\">unicode</td><td class=\"_5c99da9a\">Text color (HEX, RGB or color names).</td><td class=\"_5c99da9a\"><code class=\"_1d7c6046\">'#000000'</code></td></tr><tr class=\"_8a68569b\"><td class=\"_5c99da9a\"><code class=\"_1d7c6046\">bg</code></td><td class=\"_5c99da9a\">unicode</td><td class=\"_5c99da9a\">Background color (HEX, RGB or color names).</td><td class=\"_5c99da9a\"><code class=\"_1d7c6046\">'#ffffff'</code></td></tr><tr class=\"_8a68569b\"><td class=\"_5c99da9a\"><code class=\"_1d7c6046\">font</code></td><td class=\"_5c99da9a\">unicode</td><td class=\"_5c99da9a\">Font name or font family for all text.</td><td class=\"_5c99da9a\"><code class=\"_1d7c6046\">'Arial'</code></td></tr><tr class=\"_8a68569b\"><td class=\"_5c99da9a\"><code class=\"_1d7c6046\">offset_x</code></td><td class=\"_5c99da9a\">int</td><td class=\"_5c99da9a\">Spacing on left side of the SVG in px.</td><td class=\"_5c99da9a\"><code class=\"_1d7c6046\">50</code></td></tr><tr class=\"_8a68569b\"><td class=\"_5c99da9a\"><code class=\"_1d7c6046\">arrow_stroke</code></td><td class=\"_5c99da9a\">int</td><td class=\"_5c99da9a\">Width of arrow path in px.</td><td class=\"_5c99da9a\"><code class=\"_1d7c6046\">2</code></td></tr><tr class=\"_8a68569b\"><td class=\"_5c99da9a\"><code class=\"_1d7c6046\">arrow_width</code></td><td class=\"_5c99da9a\">int</td><td class=\"_5c99da9a\">Width of arrow head in px.</td><td class=\"_5c99da9a\"><code class=\"_1d7c6046\">10</code> / <code class=\"_1d7c6046\">8</code> (compact)</td></tr><tr class=\"_8a68569b\"><td class=\"_5c99da9a\"><code class=\"_1d7c6046\">arrow_spacing</code></td><td class=\"_5c99da9a\">int</td><td class=\"_5c99da9a\">Spacing between arrows in px to avoid overlaps.</td><td class=\"_5c99da9a\"><code class=\"_1d7c6046\">20</code> / <code class=\"_1d7c6046\">12</code> (compact)</td></tr><tr class=\"_8a68569b\"><td class=\"_5c99da9a\"><code class=\"_1d7c6046\">word_spacing</code></td><td class=\"_5c99da9a\">int</td><td class=\"_5c99da9a\">Vertical spacing between words and arcs in px.</td><td class=\"_5c99da9a\"><code class=\"_1d7c6046\">45</code></td></tr><tr class=\"_8a68569b\"><td class=\"_5c99da9a\"><code class=\"_1d7c6046\">distance</code></td><td class=\"_5c99da9a\">int</td><td class=\"_5c99da9a\">Distance between words in px.</td><td class=\"_5c99da9a\"><code class=\"_1d7c6046\">175</code> / <code class=\"_1d7c6046\">150</code> (compact)</td></tr>"
      ]
    },
    {
      "cell_type": "markdown",
      "metadata": {
        "id": "yXQedDx-gtYm"
      },
      "source": [
        "In the example above, I set the `distance` option to **100**. That set the pixel distance to **100** between each word on the diagram."
      ]
    },
    {
      "cell_type": "markdown",
      "metadata": {
        "id": "NlQYGv07gtYn"
      },
      "source": [
        "Here's another example showing various options from the table above. Note that the change from circular to square lines on the diagram can be achieved with the `compact` option."
      ]
    },
    {
      "cell_type": "code",
      "metadata": {
        "id": "YgFSOvzNgtYn",
        "colab": {
          "base_uri": "https://localhost:8080/",
          "height": 305
        },
        "outputId": "ca3c47cb-8354-4c89-c8f4-ea50c6d4051f"
      },
      "source": [
        "displacy.render(doc_object, style=\"dep\", jupyter=True, options={\"distance\":130, \"color\":\"Blue\", \"arrow_stroke\":4, \"arrow_spacing\":20, \"word_spacing\":50, \"compact\":True} )"
      ],
      "execution_count": 56,
      "outputs": [
        {
          "output_type": "display_data",
          "data": {
            "text/html": [
              "<span class=\"tex2jax_ignore\"><svg xmlns=\"http://www.w3.org/2000/svg\" xmlns:xlink=\"http://www.w3.org/1999/xlink\" xml:lang=\"en\" id=\"139ebc8313fb44b5aa900f1902fd61f1-0\" class=\"displacy\" width=\"960\" height=\"284.0\" direction=\"ltr\" style=\"max-width: none; height: 284.0px; color: Blue; background: #ffffff; font-family: Arial; direction: ltr\">\n",
              "<text class=\"displacy-token\" fill=\"currentColor\" text-anchor=\"middle\" y=\"184.0\">\n",
              "    <tspan class=\"displacy-word\" fill=\"currentColor\" x=\"50\">Autonomous</tspan>\n",
              "    <tspan class=\"displacy-tag\" dy=\"2em\" fill=\"currentColor\" x=\"50\">ADJ</tspan>\n",
              "</text>\n",
              "\n",
              "<text class=\"displacy-token\" fill=\"currentColor\" text-anchor=\"middle\" y=\"184.0\">\n",
              "    <tspan class=\"displacy-word\" fill=\"currentColor\" x=\"180\">cars</tspan>\n",
              "    <tspan class=\"displacy-tag\" dy=\"2em\" fill=\"currentColor\" x=\"180\">NOUN</tspan>\n",
              "</text>\n",
              "\n",
              "<text class=\"displacy-token\" fill=\"currentColor\" text-anchor=\"middle\" y=\"184.0\">\n",
              "    <tspan class=\"displacy-word\" fill=\"currentColor\" x=\"310\">shift</tspan>\n",
              "    <tspan class=\"displacy-tag\" dy=\"2em\" fill=\"currentColor\" x=\"310\">VERB</tspan>\n",
              "</text>\n",
              "\n",
              "<text class=\"displacy-token\" fill=\"currentColor\" text-anchor=\"middle\" y=\"184.0\">\n",
              "    <tspan class=\"displacy-word\" fill=\"currentColor\" x=\"440\">insurance</tspan>\n",
              "    <tspan class=\"displacy-tag\" dy=\"2em\" fill=\"currentColor\" x=\"440\">NOUN</tspan>\n",
              "</text>\n",
              "\n",
              "<text class=\"displacy-token\" fill=\"currentColor\" text-anchor=\"middle\" y=\"184.0\">\n",
              "    <tspan class=\"displacy-word\" fill=\"currentColor\" x=\"570\">liability</tspan>\n",
              "    <tspan class=\"displacy-tag\" dy=\"2em\" fill=\"currentColor\" x=\"570\">NOUN</tspan>\n",
              "</text>\n",
              "\n",
              "<text class=\"displacy-token\" fill=\"currentColor\" text-anchor=\"middle\" y=\"184.0\">\n",
              "    <tspan class=\"displacy-word\" fill=\"currentColor\" x=\"700\">toward</tspan>\n",
              "    <tspan class=\"displacy-tag\" dy=\"2em\" fill=\"currentColor\" x=\"700\">ADP</tspan>\n",
              "</text>\n",
              "\n",
              "<text class=\"displacy-token\" fill=\"currentColor\" text-anchor=\"middle\" y=\"184.0\">\n",
              "    <tspan class=\"displacy-word\" fill=\"currentColor\" x=\"830\">manufacturers</tspan>\n",
              "    <tspan class=\"displacy-tag\" dy=\"2em\" fill=\"currentColor\" x=\"830\">NOUN</tspan>\n",
              "</text>\n",
              "\n",
              "<g class=\"displacy-arrow\">\n",
              "    <path class=\"displacy-arc\" id=\"arrow-139ebc8313fb44b5aa900f1902fd61f1-0-0\" stroke-width=\"4px\" d=\"M70,134.0 70,112.33333333333333 175.0,112.33333333333333 175.0,134.0\" fill=\"none\" stroke=\"currentColor\"/>\n",
              "    <text dy=\"1.25em\" style=\"font-size: 0.8em; letter-spacing: 1px\">\n",
              "        <textPath xlink:href=\"#arrow-139ebc8313fb44b5aa900f1902fd61f1-0-0\" class=\"displacy-label\" startOffset=\"50%\" side=\"left\" fill=\"currentColor\" text-anchor=\"middle\">amod</textPath>\n",
              "    </text>\n",
              "    <path class=\"displacy-arrowhead\" d=\"M70,136.0 L66,128.0 74,128.0\" fill=\"currentColor\"/>\n",
              "</g>\n",
              "\n",
              "<g class=\"displacy-arrow\">\n",
              "    <path class=\"displacy-arc\" id=\"arrow-139ebc8313fb44b5aa900f1902fd61f1-0-1\" stroke-width=\"4px\" d=\"M200,134.0 200,112.33333333333333 305.0,112.33333333333333 305.0,134.0\" fill=\"none\" stroke=\"currentColor\"/>\n",
              "    <text dy=\"1.25em\" style=\"font-size: 0.8em; letter-spacing: 1px\">\n",
              "        <textPath xlink:href=\"#arrow-139ebc8313fb44b5aa900f1902fd61f1-0-1\" class=\"displacy-label\" startOffset=\"50%\" side=\"left\" fill=\"currentColor\" text-anchor=\"middle\">nsubj</textPath>\n",
              "    </text>\n",
              "    <path class=\"displacy-arrowhead\" d=\"M200,136.0 L196,128.0 204,128.0\" fill=\"currentColor\"/>\n",
              "</g>\n",
              "\n",
              "<g class=\"displacy-arrow\">\n",
              "    <path class=\"displacy-arc\" id=\"arrow-139ebc8313fb44b5aa900f1902fd61f1-0-2\" stroke-width=\"4px\" d=\"M460,134.0 460,112.33333333333333 565.0,112.33333333333333 565.0,134.0\" fill=\"none\" stroke=\"currentColor\"/>\n",
              "    <text dy=\"1.25em\" style=\"font-size: 0.8em; letter-spacing: 1px\">\n",
              "        <textPath xlink:href=\"#arrow-139ebc8313fb44b5aa900f1902fd61f1-0-2\" class=\"displacy-label\" startOffset=\"50%\" side=\"left\" fill=\"currentColor\" text-anchor=\"middle\">compound</textPath>\n",
              "    </text>\n",
              "    <path class=\"displacy-arrowhead\" d=\"M460,136.0 L456,128.0 464,128.0\" fill=\"currentColor\"/>\n",
              "</g>\n",
              "\n",
              "<g class=\"displacy-arrow\">\n",
              "    <path class=\"displacy-arc\" id=\"arrow-139ebc8313fb44b5aa900f1902fd61f1-0-3\" stroke-width=\"4px\" d=\"M330,134.0 330,90.66666666666666 570.0,90.66666666666666 570.0,134.0\" fill=\"none\" stroke=\"currentColor\"/>\n",
              "    <text dy=\"1.25em\" style=\"font-size: 0.8em; letter-spacing: 1px\">\n",
              "        <textPath xlink:href=\"#arrow-139ebc8313fb44b5aa900f1902fd61f1-0-3\" class=\"displacy-label\" startOffset=\"50%\" side=\"left\" fill=\"currentColor\" text-anchor=\"middle\">dobj</textPath>\n",
              "    </text>\n",
              "    <path class=\"displacy-arrowhead\" d=\"M570.0,136.0 L574.0,128.0 566.0,128.0\" fill=\"currentColor\"/>\n",
              "</g>\n",
              "\n",
              "<g class=\"displacy-arrow\">\n",
              "    <path class=\"displacy-arc\" id=\"arrow-139ebc8313fb44b5aa900f1902fd61f1-0-4\" stroke-width=\"4px\" d=\"M590,134.0 590,112.33333333333333 695.0,112.33333333333333 695.0,134.0\" fill=\"none\" stroke=\"currentColor\"/>\n",
              "    <text dy=\"1.25em\" style=\"font-size: 0.8em; letter-spacing: 1px\">\n",
              "        <textPath xlink:href=\"#arrow-139ebc8313fb44b5aa900f1902fd61f1-0-4\" class=\"displacy-label\" startOffset=\"50%\" side=\"left\" fill=\"currentColor\" text-anchor=\"middle\">prep</textPath>\n",
              "    </text>\n",
              "    <path class=\"displacy-arrowhead\" d=\"M695.0,136.0 L699.0,128.0 691.0,128.0\" fill=\"currentColor\"/>\n",
              "</g>\n",
              "\n",
              "<g class=\"displacy-arrow\">\n",
              "    <path class=\"displacy-arc\" id=\"arrow-139ebc8313fb44b5aa900f1902fd61f1-0-5\" stroke-width=\"4px\" d=\"M720,134.0 720,112.33333333333333 825.0,112.33333333333333 825.0,134.0\" fill=\"none\" stroke=\"currentColor\"/>\n",
              "    <text dy=\"1.25em\" style=\"font-size: 0.8em; letter-spacing: 1px\">\n",
              "        <textPath xlink:href=\"#arrow-139ebc8313fb44b5aa900f1902fd61f1-0-5\" class=\"displacy-label\" startOffset=\"50%\" side=\"left\" fill=\"currentColor\" text-anchor=\"middle\">pobj</textPath>\n",
              "    </text>\n",
              "    <path class=\"displacy-arrowhead\" d=\"M825.0,136.0 L829.0,128.0 821.0,128.0\" fill=\"currentColor\"/>\n",
              "</g>\n",
              "</svg></span>"
            ],
            "text/plain": [
              "<IPython.core.display.HTML object>"
            ]
          },
          "metadata": {
            "tags": []
          }
        }
      ]
    },
    {
      "cell_type": "markdown",
      "metadata": {
        "id": "dDAKvhbegtYo"
      },
      "source": [
        "Earlier we examined the dependencies in the sentence. `dispacy` can also display the entities of the sentence by using the `style=\"ent\"` option. Before we do that, lets look at whether there are any entities in the sentence we've been using in the example until now."
      ]
    },
    {
      "cell_type": "code",
      "metadata": {
        "id": "VTZfelDsgtYo"
      },
      "source": [
        "# Display any named entities in the string\n",
        "for entity in doc_object.ents:\n",
        "    print (entity)"
      ],
      "execution_count": 57,
      "outputs": []
    },
    {
      "cell_type": "markdown",
      "metadata": {
        "id": "MdPHu2ZGgtYo"
      },
      "source": [
        "There are no named entities, so we'll use another text example for demo purposes. \n",
        "\n",
        "The text in this example comes from the official `displacy` webpage. For more info, see https://explosion.ai/demos/displacy-ent\n",
        "\n",
        "First I'll look at the entities in this sentence."
      ]
    },
    {
      "cell_type": "code",
      "metadata": {
        "id": "OSrz-EXkgtYp",
        "colab": {
          "base_uri": "https://localhost:8080/"
        },
        "outputId": "9434a49a-2c81-4615-8ad5-8ce1547c36ba"
      },
      "source": [
        "from google.colab import drive\n",
        "drive.mount('/content/gdrive')\n",
        "file_name = open(\"/content/gdrive/My Drive/NLP/noun-chunks.txt\")\n",
        "sentence = file_name.read()\n",
        "#sentence = (u\"When Sebastian Thrun started working on self-driving cars at Google in 2007, few people outside of the company took him seriously. “I can tell you very senior CEOs of major American car companies would shake my hand and turn away because I wasn’t worth talking to,” said Thrun, now the co-founder and CEO of online higher education startup Udacity, in an interview with Recode earlier this week. A little less than a decade later, dozens of self-driving startups have cropped up while automakers around the world clamor, wallet in hand, to secure their place in the fast-moving world of fully automated transportation.\")\n",
        "doc_object = nlp(sentence)\n",
        "\n",
        "# Display any named entities in the string\n",
        "for entity in doc_object.ents:\n",
        "    print (entity, entity.label_)"
      ],
      "execution_count": 50,
      "outputs": [
        {
          "output_type": "stream",
          "text": [
            "Mounted at /content/gdrive\n",
            "Sebastian NORP\n",
            "Google ORG\n",
            "2007 DATE\n",
            "American NORP\n",
            "Udacity ORG\n",
            "Recode ORG\n",
            "earlier this week DATE\n",
            "less than a decade later DATE\n",
            "dozens CARDINAL\n"
          ],
          "name": "stdout"
        }
      ]
    },
    {
      "cell_type": "markdown",
      "metadata": {
        "id": "G3QbSV4fgtYp"
      },
      "source": [
        "A nice feature in `dispacy.render` function is to display the sentence text and also highlight each entity with its associated entity label. This is all done automatically. "
      ]
    },
    {
      "cell_type": "code",
      "metadata": {
        "id": "4w7edAfngtYp",
        "colab": {
          "base_uri": "https://localhost:8080/",
          "height": 192
        },
        "outputId": "38527d25-a187-41e3-d6df-663e7f0669ba"
      },
      "source": [
        "displacy.render(doc_object, style=\"ent\", jupyter=True)"
      ],
      "execution_count": 51,
      "outputs": [
        {
          "output_type": "display_data",
          "data": {
            "text/html": [
              "<span class=\"tex2jax_ignore\"><div class=\"entities\" style=\"line-height: 2.5; direction: ltr\">When \n",
              "<mark class=\"entity\" style=\"background: #c887fb; padding: 0.45em 0.6em; margin: 0 0.25em; line-height: 1; border-radius: 0.35em;\">\n",
              "    Sebastian\n",
              "    <span style=\"font-size: 0.8em; font-weight: bold; line-height: 1; border-radius: 0.35em; text-transform: uppercase; vertical-align: middle; margin-left: 0.5rem\">NORP</span>\n",
              "</mark>\n",
              " Thrun started working on self-driving cars at \n",
              "<mark class=\"entity\" style=\"background: #7aecec; padding: 0.45em 0.6em; margin: 0 0.25em; line-height: 1; border-radius: 0.35em;\">\n",
              "    Google\n",
              "    <span style=\"font-size: 0.8em; font-weight: bold; line-height: 1; border-radius: 0.35em; text-transform: uppercase; vertical-align: middle; margin-left: 0.5rem\">ORG</span>\n",
              "</mark>\n",
              " in \n",
              "<mark class=\"entity\" style=\"background: #bfe1d9; padding: 0.45em 0.6em; margin: 0 0.25em; line-height: 1; border-radius: 0.35em;\">\n",
              "    2007\n",
              "    <span style=\"font-size: 0.8em; font-weight: bold; line-height: 1; border-radius: 0.35em; text-transform: uppercase; vertical-align: middle; margin-left: 0.5rem\">DATE</span>\n",
              "</mark>\n",
              ", few people outside of the company took him seriously. </br>&quot;I can tell you very senior CEOs of major \n",
              "<mark class=\"entity\" style=\"background: #c887fb; padding: 0.45em 0.6em; margin: 0 0.25em; line-height: 1; border-radius: 0.35em;\">\n",
              "    American\n",
              "    <span style=\"font-size: 0.8em; font-weight: bold; line-height: 1; border-radius: 0.35em; text-transform: uppercase; vertical-align: middle; margin-left: 0.5rem\">NORP</span>\n",
              "</mark>\n",
              " car companies would shake my hand and turn away because I wasn't worth talking to,&quot; said Thrun, now the co-founder and CEO of online higher education startup \n",
              "<mark class=\"entity\" style=\"background: #7aecec; padding: 0.45em 0.6em; margin: 0 0.25em; line-height: 1; border-radius: 0.35em;\">\n",
              "    Udacity\n",
              "    <span style=\"font-size: 0.8em; font-weight: bold; line-height: 1; border-radius: 0.35em; text-transform: uppercase; vertical-align: middle; margin-left: 0.5rem\">ORG</span>\n",
              "</mark>\n",
              ", in an interview with \n",
              "<mark class=\"entity\" style=\"background: #7aecec; padding: 0.45em 0.6em; margin: 0 0.25em; line-height: 1; border-radius: 0.35em;\">\n",
              "    Recode\n",
              "    <span style=\"font-size: 0.8em; font-weight: bold; line-height: 1; border-radius: 0.35em; text-transform: uppercase; vertical-align: middle; margin-left: 0.5rem\">ORG</span>\n",
              "</mark>\n",
              " \n",
              "<mark class=\"entity\" style=\"background: #bfe1d9; padding: 0.45em 0.6em; margin: 0 0.25em; line-height: 1; border-radius: 0.35em;\">\n",
              "    earlier this week\n",
              "    <span style=\"font-size: 0.8em; font-weight: bold; line-height: 1; border-radius: 0.35em; text-transform: uppercase; vertical-align: middle; margin-left: 0.5rem\">DATE</span>\n",
              "</mark>\n",
              ". </br>A little \n",
              "<mark class=\"entity\" style=\"background: #bfe1d9; padding: 0.45em 0.6em; margin: 0 0.25em; line-height: 1; border-radius: 0.35em;\">\n",
              "    less than a decade later\n",
              "    <span style=\"font-size: 0.8em; font-weight: bold; line-height: 1; border-radius: 0.35em; text-transform: uppercase; vertical-align: middle; margin-left: 0.5rem\">DATE</span>\n",
              "</mark>\n",
              ", \n",
              "<mark class=\"entity\" style=\"background: #e4e7d2; padding: 0.45em 0.6em; margin: 0 0.25em; line-height: 1; border-radius: 0.35em;\">\n",
              "    dozens\n",
              "    <span style=\"font-size: 0.8em; font-weight: bold; line-height: 1; border-radius: 0.35em; text-transform: uppercase; vertical-align: middle; margin-left: 0.5rem\">CARDINAL</span>\n",
              "</mark>\n",
              " of self-driving startups have cropped up while automakers around the world clamor, wallet in hand, to secure their place in the fast-moving world of fully automated transportation.</div></span>"
            ],
            "text/plain": [
              "<IPython.core.display.HTML object>"
            ]
          },
          "metadata": {
            "tags": []
          }
        }
      ]
    }
  ]
}