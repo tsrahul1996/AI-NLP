{
  "nbformat": 4,
  "nbformat_minor": 0,
  "metadata": {
    "kernelspec": {
      "display_name": "Python 3",
      "language": "python",
      "name": "python3"
    },
    "language_info": {
      "codemirror_mode": {
        "name": "ipython",
        "version": 3
      },
      "file_extension": ".py",
      "mimetype": "text/x-python",
      "name": "python",
      "nbconvert_exporter": "python",
      "pygments_lexer": "ipython3",
      "version": "3.7.6"
    },
    "colab": {
      "name": "Practical 1e - Regular Expressions.ipynb",
      "provenance": [],
      "collapsed_sections": []
    }
  },
  "cells": [
    {
      "cell_type": "markdown",
      "metadata": {
        "id": "0a_gpkBqrEPV"
      },
      "source": [
        "# Regular Expressions\n",
        "\n",
        "Regular Expressions (sometimes called regex) allow us to search for strings using almost any sort of rule we can come up with. For example, finding all capital letters in a string, or finding a phone number in a document. \n",
        "\n",
        "Regular expressions can be strange in their syntax. This strange syntax is a byproduct of their flexibility. Regular expressions have to be able to filter out any string pattern you can imagine, which is why they have a complex string pattern format.\n",
        "Regular expressions are handled using Python's built-in **re** library. See [this link](https://docs.python.org/3/library/re.html) for more information.\n",
        "\n",
        "Here's a nice link that provides information on all possible regex patterns: docs.python.org/3/howto/regex.html"
      ]
    },
    {
      "cell_type": "markdown",
      "metadata": {
        "id": "3z8SdwtkrEPY"
      },
      "source": [
        "## Searching for Basic Patterns\n",
        "\n",
        "Let's imagine that we have the following string:"
      ]
    },
    {
      "cell_type": "code",
      "metadata": {
        "id": "hvJKTQrVrEPY"
      },
      "source": [
        "text = \"The lecturer's phone number in LYIT is 074-91-56789. Please call him soon!\""
      ],
      "execution_count": 47,
      "outputs": []
    },
    {
      "cell_type": "markdown",
      "metadata": {
        "id": "WakOSXrBrEPZ"
      },
      "source": [
        "We would like to know if the word (or string) \"phone\" is in the contents of our string called \"text\".\n",
        "We can quickly do a check using the **in** keyword and check if this word exists in the string"
      ]
    },
    {
      "cell_type": "code",
      "metadata": {
        "colab": {
          "base_uri": "https://localhost:8080/"
        },
        "id": "nzwf3K4MrEPZ",
        "outputId": "9d6b5111-5168-4e12-f64f-b6f711976f88"
      },
      "source": [
        "'LYIT' in text"
      ],
      "execution_count": 48,
      "outputs": [
        {
          "output_type": "execute_result",
          "data": {
            "text/plain": [
              "True"
            ]
          },
          "metadata": {
            "tags": []
          },
          "execution_count": 48
        }
      ]
    },
    {
      "cell_type": "markdown",
      "metadata": {
        "id": "oLK6Z4l_rEPa"
      },
      "source": [
        "And the **in** keyword can be used when we want to check if an exact number such as a phone number is within a string. \n",
        "For example, does the phone number 074-91-56789 exist in our string. We can use this command"
      ]
    },
    {
      "cell_type": "code",
      "metadata": {
        "colab": {
          "base_uri": "https://localhost:8080/"
        },
        "id": "FqN-yrFFrEPa",
        "outputId": "167acca4-0e83-4804-a160-16da2037c119"
      },
      "source": [
        "\"074-91-56789\" in text"
      ],
      "execution_count": null,
      "outputs": [
        {
          "output_type": "execute_result",
          "data": {
            "text/plain": [
              "True"
            ]
          },
          "metadata": {
            "tags": []
          },
          "execution_count": 4
        }
      ]
    },
    {
      "cell_type": "markdown",
      "metadata": {
        "id": "eUFTkXdWrEPa"
      },
      "source": [
        "## Potential problems with this method"
      ]
    },
    {
      "cell_type": "markdown",
      "metadata": {
        "id": "Ct-eOsywrEPa"
      },
      "source": [
        "Be careful when using this type of string matching technique as an **exact** copy of your search text is needed before a TRUE result is detected. For example, this does not work since one of the dashes is missing."
      ]
    },
    {
      "cell_type": "code",
      "metadata": {
        "colab": {
          "base_uri": "https://localhost:8080/"
        },
        "id": "f2hzMhhNrEPb",
        "outputId": "18a43f14-e1a5-4c6b-cb4e-9f09ee63b1c0"
      },
      "source": [
        "\"074-9156789\" in text"
      ],
      "execution_count": 49,
      "outputs": [
        {
          "output_type": "execute_result",
          "data": {
            "text/plain": [
              "False"
            ]
          },
          "metadata": {
            "tags": []
          },
          "execution_count": 49
        }
      ]
    },
    {
      "cell_type": "markdown",
      "metadata": {
        "id": "jXnAz9X1rEPb"
      },
      "source": [
        "## Regular expressions"
      ]
    },
    {
      "cell_type": "markdown",
      "metadata": {
        "id": "FV6pDzPOrEPb"
      },
      "source": [
        "What if we don't know the exact number that we're looking for? For example, if we only know the number format, including dashes? Or what if we wanted to find phone numbers within a document? Or other information such as a date or an email address?\n",
        "\n",
        "We can use a **regular expression** to find a specific pattern within text. Regular expressions allow for pattern searching within a text string, or within an entire document.\n",
        "\n",
        "We will use regular expressions in this module. "
      ]
    },
    {
      "cell_type": "code",
      "metadata": {
        "id": "uS_LzZtKrEPc"
      },
      "source": [
        "# Import the regular expressions library in Python\n",
        "import re"
      ],
      "execution_count": 50,
      "outputs": []
    },
    {
      "cell_type": "markdown",
      "metadata": {
        "id": "6m8pXbTArEPc"
      },
      "source": [
        "Key points... \n",
        "Every character type has a corresponding pattern code\n",
        "\n",
        "Digits have a placeholder pattern code of **\\d**. I'll explain this in more detail shortly in this document.\n",
        "\n",
        "Using a backslash allows Python to know that what you are typing is a **special character** and not the letter \"d\"."
      ]
    },
    {
      "cell_type": "code",
      "metadata": {
        "id": "ecBDlcAPrEPc"
      },
      "source": [
        "pattern = 'LYIT'"
      ],
      "execution_count": 51,
      "outputs": []
    },
    {
      "cell_type": "code",
      "metadata": {
        "colab": {
          "base_uri": "https://localhost:8080/"
        },
        "id": "rNv3OsdMrEPc",
        "outputId": "c142aa8e-4e25-4da8-c055-4f840fd01288"
      },
      "source": [
        "re.search (pattern, text)"
      ],
      "execution_count": 52,
      "outputs": [
        {
          "output_type": "execute_result",
          "data": {
            "text/plain": [
              "<re.Match object; span=(31, 35), match='LYIT'>"
            ]
          },
          "metadata": {
            "tags": []
          },
          "execution_count": 52
        }
      ]
    },
    {
      "cell_type": "markdown",
      "metadata": {
        "id": "VB4Y0NjnrEPd"
      },
      "source": [
        "There's some useful information within this output that we can examine. For example, we can show where the match occurs within the string. Remember that the text indexing position starts at zero."
      ]
    },
    {
      "cell_type": "code",
      "metadata": {
        "colab": {
          "base_uri": "https://localhost:8080/"
        },
        "id": "WWH9vfgJrEPd",
        "outputId": "bb51f27a-3771-46ac-bab1-e094222da992"
      },
      "source": [
        "# Copy the output of the search keyword into a variable\n",
        "text_match = re.search (pattern, text)\n",
        "\n",
        "# show where the match occurs within the string\n",
        "text_match.span()"
      ],
      "execution_count": 53,
      "outputs": [
        {
          "output_type": "execute_result",
          "data": {
            "text/plain": [
              "(31, 35)"
            ]
          },
          "metadata": {
            "tags": []
          },
          "execution_count": 53
        }
      ]
    },
    {
      "cell_type": "markdown",
      "metadata": {
        "id": "duiCgkXbrEPd"
      },
      "source": [
        "This means that the character **L** in the search word **LYIT** starts at location 31 and the **T** is in position 35."
      ]
    },
    {
      "cell_type": "markdown",
      "metadata": {
        "id": "ZDRRyy-3rEPd"
      },
      "source": [
        "We can request particular attributes. Press the tab key after pressing the \".\" to see all potential options associated with your keyed-in command."
      ]
    },
    {
      "cell_type": "code",
      "metadata": {
        "colab": {
          "base_uri": "https://localhost:8080/"
        },
        "id": "QTZI0VcSrEPd",
        "outputId": "7a2b2eb7-9e48-47cb-9b39-dfe1044b641b"
      },
      "source": [
        "text_match.start()"
      ],
      "execution_count": 54,
      "outputs": [
        {
          "output_type": "execute_result",
          "data": {
            "text/plain": [
              "31"
            ]
          },
          "metadata": {
            "tags": []
          },
          "execution_count": 54
        }
      ]
    },
    {
      "cell_type": "code",
      "metadata": {
        "colab": {
          "base_uri": "https://localhost:8080/"
        },
        "id": "kuRhR8fdrEPe",
        "outputId": "8fbe2795-9ec2-4cff-e6c8-4a81da6a92cf"
      },
      "source": [
        "text_match.end()"
      ],
      "execution_count": 55,
      "outputs": [
        {
          "output_type": "execute_result",
          "data": {
            "text/plain": [
              "35"
            ]
          },
          "metadata": {
            "tags": []
          },
          "execution_count": 55
        }
      ]
    },
    {
      "cell_type": "markdown",
      "metadata": {
        "id": "MTu1DLlorEPe"
      },
      "source": [
        "Be careful when using **re.search** keyword when you are looking for multiple occurrences of a string. Herer's an example why."
      ]
    },
    {
      "cell_type": "code",
      "metadata": {
        "colab": {
          "base_uri": "https://localhost:8080/"
        },
        "id": "b2vbYNxIrEPe",
        "outputId": "35495767-7c9d-47cd-84c1-99c0e9c28cd1"
      },
      "source": [
        "my_new_text = \"I am a new student in LYIT and I think LYIT is great.\"\n",
        "# Using pattern variable from previous definition\n",
        "\n",
        "# re.search only finds the first instance\n",
        "my_match = re.search(pattern, my_new_text)\n",
        "my_match.span()"
      ],
      "execution_count": 56,
      "outputs": [
        {
          "output_type": "execute_result",
          "data": {
            "text/plain": [
              "(22, 26)"
            ]
          },
          "metadata": {
            "tags": []
          },
          "execution_count": 56
        }
      ]
    },
    {
      "cell_type": "markdown",
      "metadata": {
        "id": "98xGMzF-rEPe"
      },
      "source": [
        "Instead we need to use the **re.findall** command to get all matches of the specified keyword."
      ]
    },
    {
      "cell_type": "code",
      "metadata": {
        "colab": {
          "base_uri": "https://localhost:8080/"
        },
        "id": "2262uBIzrEPf",
        "outputId": "6859196d-e0a2-4cec-a656-7905ac57b789"
      },
      "source": [
        "my_match = re.findall(pattern, my_new_text)\n",
        "my_match"
      ],
      "execution_count": 57,
      "outputs": [
        {
          "output_type": "execute_result",
          "data": {
            "text/plain": [
              "['LYIT', 'LYIT']"
            ]
          },
          "metadata": {
            "tags": []
          },
          "execution_count": 57
        }
      ]
    },
    {
      "cell_type": "markdown",
      "metadata": {
        "id": "s1-SXbjyrEPf"
      },
      "source": [
        "we can find a list or iteration of all matched objects using the **re.finditer** command. In this example I'm also using a **FOR** loop to **PRINT** each iteration of the requested match."
      ]
    },
    {
      "cell_type": "code",
      "metadata": {
        "colab": {
          "base_uri": "https://localhost:8080/"
        },
        "id": "ePiC6kxcrEPf",
        "outputId": "5d04523e-e551-4a8c-f42f-b572a1164404"
      },
      "source": [
        "for matched_word in re.finditer(pattern, my_new_text):\n",
        "    print(matched_word.span())"
      ],
      "execution_count": 58,
      "outputs": [
        {
          "output_type": "stream",
          "text": [
            "(22, 26)\n",
            "(39, 43)\n"
          ],
          "name": "stdout"
        }
      ]
    },
    {
      "cell_type": "markdown",
      "metadata": {
        "id": "nbcepcmlrEPf"
      },
      "source": [
        "## Searching for general text patterns\n",
        "\n",
        "So far we've learned how to search for a basic string. Now we will check for specific patterns. We can use these to build up a pattern string. Notice how these make heavy use of the backwards slash \\. \n",
        "\n",
        "When defining a pattern string for regular expression we use the format:\n",
        "\n",
        "r'mypattern'\n",
        "\n",
        "placing the r in front of the string allows python to understand that the \\ in the pattern string are not meant to be escape slashes.\n",
        "\n",
        "This table shows all the possible identifiers:"
      ]
    },
    {
      "cell_type": "markdown",
      "metadata": {
        "id": "D0o4oOflrEPg"
      },
      "source": [
        "<table ><tr><th>Character</th><th>Description</th><th>Example Pattern Code</th><th >Exammple Match</th></tr>\n",
        "\n",
        "<tr ><td><span >\\d</span></td><td>A digit</td><td>mywork_\\d\\d\\d</td><td>mywork_722</td></tr>\n",
        "\n",
        "<tr ><td><span >\\w</span></td><td>Alphanumeric</td><td>\\w-\\w\\w\\w</td><td>A-z_9</td></tr>\n",
        "\n",
        "\n",
        "\n",
        "<tr ><td><span >\\s</span></td><td>White space</td><td>a\\sb\\sc</td><td>a b c</td></tr>\n",
        "\n",
        "\n",
        "\n",
        "<tr ><td><span >\\D</span></td><td>A non digit</td><td>\\D\\D\\D</td><td>ABC</td></tr>\n",
        "\n",
        "<tr ><td><span >\\W</span></td><td>Non-alphanumeric</td><td>\\W\\W\\W\\W\\W</td><td>*-+=)</td></tr>\n",
        "\n",
        "<tr ><td><span >\\S</span></td><td>Non-whitespace</td><td>\\S\\S\\S\\S</td><td>Yoyo</td></tr></table>"
      ]
    },
    {
      "cell_type": "markdown",
      "metadata": {
        "id": "iuewIpNkrEPg"
      },
      "source": [
        "Lets use these text patterns to find a phone number pattern within the text string I created earlier in this document."
      ]
    },
    {
      "cell_type": "code",
      "metadata": {
        "colab": {
          "base_uri": "https://localhost:8080/",
          "height": 35
        },
        "id": "1ys_DvXUrEPg",
        "outputId": "27ec1bf9-ad19-470c-874e-03db988fcca0"
      },
      "source": [
        "# Show the text pattern to remind us of its contents\n",
        "text"
      ],
      "execution_count": null,
      "outputs": [
        {
          "output_type": "execute_result",
          "data": {
            "application/vnd.google.colaboratory.intrinsic+json": {
              "type": "string"
            },
            "text/plain": [
              "\"The lecturer's phone number in LYIT is 074-91-56789. Please call him soon!\""
            ]
          },
          "metadata": {
            "tags": []
          },
          "execution_count": 15
        }
      ]
    },
    {
      "cell_type": "code",
      "metadata": {
        "colab": {
          "base_uri": "https://localhost:8080/"
        },
        "id": "w9eb3G1FrEPg",
        "outputId": "a083a9c2-7f1d-41cb-90dd-c523c484037f"
      },
      "source": [
        "search_pattern = r'\\d\\d\\d-\\d\\d-\\d\\d\\d\\d\\d'\n",
        "phone_numbers = re.search(search_pattern, text)\n",
        "# show the contents of phone_numbers\n",
        "phone_numbers"
      ],
      "execution_count": null,
      "outputs": [
        {
          "output_type": "execute_result",
          "data": {
            "text/plain": [
              "<re.Match object; span=(39, 51), match='074-91-56789'>"
            ]
          },
          "metadata": {
            "tags": []
          },
          "execution_count": 16
        }
      ]
    },
    {
      "cell_type": "markdown",
      "metadata": {
        "id": "1rxk9d4qrEPh"
      },
      "source": [
        "The output shows where the pattern occured, and the actual found match."
      ]
    },
    {
      "cell_type": "markdown",
      "metadata": {
        "id": "wa3wUSTRrEPh"
      },
      "source": [
        "We can show just the search result using the **group** command"
      ]
    },
    {
      "cell_type": "code",
      "metadata": {
        "colab": {
          "base_uri": "https://localhost:8080/",
          "height": 35
        },
        "id": "Tg0Wrpx7rEPh",
        "outputId": "4e6fc31d-ae02-4814-876a-5620f818ad41"
      },
      "source": [
        "phone_numbers.group()"
      ],
      "execution_count": null,
      "outputs": [
        {
          "output_type": "execute_result",
          "data": {
            "application/vnd.google.colaboratory.intrinsic+json": {
              "type": "string"
            },
            "text/plain": [
              "'074-91-56789'"
            ]
          },
          "metadata": {
            "tags": []
          },
          "execution_count": 17
        }
      ]
    },
    {
      "cell_type": "markdown",
      "metadata": {
        "id": "jA-m9xvErEPi"
      },
      "source": [
        "This will work for all identified patterns within the searched text string. If the phone number in the text string changes, the **re.search** command will still pick out the phone number, as long as it is using the same pattern.\n",
        "\n"
      ]
    },
    {
      "cell_type": "markdown",
      "metadata": {
        "id": "58v7Dx7ZrEPi"
      },
      "source": [
        "We can use the **re.findall()** command to find multiple occurrences of text with the same pattern. \n",
        "\n",
        "We can use **re.finditer** to work through each iteration, just as we did earlier in this document."
      ]
    },
    {
      "cell_type": "markdown",
      "metadata": {
        "id": "j2tSj_rYrEPi"
      },
      "source": [
        "Notice the repetition of \\d. It can be annoying to use, particularly if we are looking for very long strings of numbers. We can use quantifiers to improve this.\n",
        "\n",
        "## Quantifiers\n",
        "\n",
        "Now that we know the special character designations (from above), we can use them along with quantifiers to define how many we expect.\n",
        "\n",
        "Here's a table showing the quantifiers available to us."
      ]
    },
    {
      "cell_type": "markdown",
      "metadata": {
        "id": "tl8rhVborEPi"
      },
      "source": [
        "<table ><tr><th>Character</th><th>Description</th><th>Example Pattern Code</th><th >Exammple Match</th></tr>\n",
        "\n",
        "<tr ><td><span >+</span></td><td>Occurs one or more times</td><td>\tVersion \\w-\\w+</td><td>Version A-b1_1</td></tr>\n",
        "\n",
        "<tr ><td><span >{3}</span></td><td>Occurs exactly 3 times</td><td>\\D{3}</td><td>abc</td></tr>\n",
        "\n",
        "\n",
        "\n",
        "<tr ><td><span >{2,4}</span></td><td>Occurs 2 to 4 times</td><td>\\d{2,4}</td><td>123</td></tr>\n",
        "\n",
        "\n",
        "\n",
        "<tr ><td><span >{3,}</span></td><td>Occurs 3 or more</td><td>\\w{3,}</td><td>any characters</td></tr>\n",
        "\n",
        "<tr ><td><span >\\*</span></td><td>Occurs zero or more times</td><td>A\\*B\\*C*</td><td>AAACC</td></tr>\n",
        "\n",
        "<tr ><td><span >?</span></td><td>Once or none</td><td>plurals?</td><td>plural</td></tr></table>"
      ]
    },
    {
      "cell_type": "markdown",
      "metadata": {
        "id": "Oen42cpmrEPi"
      },
      "source": [
        "Now I'll convert the phone number pattern using a quantifier.\n",
        "\n",
        "Here's the original pattern from earlier."
      ]
    },
    {
      "cell_type": "code",
      "metadata": {
        "colab": {
          "base_uri": "https://localhost:8080/",
          "height": 35
        },
        "id": "nSGl_iT4rEPj",
        "outputId": "cbba110f-7d54-48aa-e261-c850ab935a3a"
      },
      "source": [
        "search_pattern"
      ],
      "execution_count": 59,
      "outputs": [
        {
          "output_type": "execute_result",
          "data": {
            "application/vnd.google.colaboratory.intrinsic+json": {
              "type": "string"
            },
            "text/plain": [
              "'(\\\\d{3})-(\\\\d{2})-(\\\\d{5})'"
            ]
          },
          "metadata": {
            "tags": []
          },
          "execution_count": 59
        }
      ]
    },
    {
      "cell_type": "code",
      "metadata": {
        "id": "eb6OOps8rEPj"
      },
      "source": [
        "# we use 'r' first\n",
        "# \"\\d\" means a digit (from table above)\n",
        "# Note there's no spaces between any of the expression\n",
        "search_pattern = r\"\\d{3}-\\d{2}-\\d{5}\"\n"
      ],
      "execution_count": 60,
      "outputs": []
    },
    {
      "cell_type": "code",
      "metadata": {
        "colab": {
          "base_uri": "https://localhost:8080/"
        },
        "id": "DHzFR3cFrEPj",
        "outputId": "3cb58112-e5ea-428b-d8e5-2162994a7efb"
      },
      "source": [
        "re.search(search_pattern, text)"
      ],
      "execution_count": 61,
      "outputs": [
        {
          "output_type": "execute_result",
          "data": {
            "text/plain": [
              "<re.Match object; span=(39, 51), match='074-91-56789'>"
            ]
          },
          "metadata": {
            "tags": []
          },
          "execution_count": 61
        }
      ]
    },
    {
      "cell_type": "code",
      "metadata": {
        "id": "P2xpZRiArEPj"
      },
      "source": [
        "my_match = re.search(search_pattern, text)"
      ],
      "execution_count": 62,
      "outputs": []
    },
    {
      "cell_type": "code",
      "metadata": {
        "colab": {
          "base_uri": "https://localhost:8080/",
          "height": 35
        },
        "id": "sVvIshuyrEPk",
        "outputId": "3f588b17-b1a2-449e-a39c-ba84f3ed8d6c"
      },
      "source": [
        "my_match.group()"
      ],
      "execution_count": 63,
      "outputs": [
        {
          "output_type": "execute_result",
          "data": {
            "application/vnd.google.colaboratory.intrinsic+json": {
              "type": "string"
            },
            "text/plain": [
              "'074-91-56789'"
            ]
          },
          "metadata": {
            "tags": []
          },
          "execution_count": 63
        }
      ]
    },
    {
      "cell_type": "markdown",
      "metadata": {
        "id": "r_99VZtIrEPk"
      },
      "source": [
        "## Groups\n",
        "\n",
        "What if we wanted to do two tasks, find phone numbers, but also be able to quickly extract their area code by extracting the first three digits? We can use groups for any general task that involves grouping together regular expressions. Then we can break them down. "
      ]
    },
    {
      "cell_type": "markdown",
      "metadata": {
        "id": "mja-70hjrEPk"
      },
      "source": [
        "We can add brackets around each part of the search pattern to create a group and to improve the search result. Then we can use these brackets to allow us to find an occurrence of a group. \n",
        "\n",
        "Using the phone number example, we can separate groups of regular expressions using parentheses:"
      ]
    },
    {
      "cell_type": "code",
      "metadata": {
        "colab": {
          "base_uri": "https://localhost:8080/",
          "height": 35
        },
        "id": "qrh0MohBrEPk",
        "outputId": "b4e223fe-f893-4a96-8a5e-193187766f8a"
      },
      "source": [
        "# Change the search_pattern so that it is split into groups\n",
        "search_pattern = r\"(\\d{3})-(\\d{2})-(\\d{5})\"\n",
        "\n",
        "my_match = re.search(search_pattern, text)\n",
        "\n",
        "# Find phone numbers that contain a match for the first group\n",
        "my_match.group(1)\n"
      ],
      "execution_count": 64,
      "outputs": [
        {
          "output_type": "execute_result",
          "data": {
            "application/vnd.google.colaboratory.intrinsic+json": {
              "type": "string"
            },
            "text/plain": [
              "'074'"
            ]
          },
          "metadata": {
            "tags": []
          },
          "execution_count": 64
        }
      ]
    },
    {
      "cell_type": "markdown",
      "metadata": {
        "id": "iBZolk1VrEPk"
      },
      "source": [
        "If we only wanted the final set of digits from the phone number, we can specify the third set of brackets - group 3."
      ]
    },
    {
      "cell_type": "code",
      "metadata": {
        "colab": {
          "base_uri": "https://localhost:8080/",
          "height": 35
        },
        "id": "Q4Qv1HzSrEPk",
        "outputId": "7b19abb6-5a59-49a7-8aff-f92858c0f016"
      },
      "source": [
        "my_match.group(3)"
      ],
      "execution_count": 65,
      "outputs": [
        {
          "output_type": "execute_result",
          "data": {
            "application/vnd.google.colaboratory.intrinsic+json": {
              "type": "string"
            },
            "text/plain": [
              "'56789'"
            ]
          },
          "metadata": {
            "tags": []
          },
          "execution_count": 65
        }
      ]
    },
    {
      "cell_type": "markdown",
      "metadata": {
        "id": "3iO1Ijc7rEPl"
      },
      "source": [
        "## Other Regex syntax we can use"
      ]
    },
    {
      "cell_type": "markdown",
      "metadata": {
        "id": "LPsr-Ka1rEPl"
      },
      "source": [
        "We can use the **OR** statement to find more than one text item within a string."
      ]
    },
    {
      "cell_type": "code",
      "metadata": {
        "colab": {
          "base_uri": "https://localhost:8080/"
        },
        "id": "Njzy7gt3rEPl",
        "outputId": "b7a18741-c909-4d96-965c-28aad6b7bef7"
      },
      "source": [
        "text = \"A man and a woman were here earlier.\"\n",
        "\n",
        "re.search(r\"man|woman\", text)"
      ],
      "execution_count": null,
      "outputs": [
        {
          "output_type": "execute_result",
          "data": {
            "text/plain": [
              "<re.Match object; span=(2, 5), match='man'>"
            ]
          },
          "metadata": {
            "tags": []
          },
          "execution_count": 25
        }
      ]
    },
    {
      "cell_type": "markdown",
      "metadata": {
        "id": "J9Dw-RCPrEPl"
      },
      "source": [
        "Note that the **re.search** only finds the first occurrence of the match pattern, just as it did when we used it . So it does not detect the occurrence of **woman** in the search text. We can solve this by using the **re.findall** command, just as I did earlier."
      ]
    },
    {
      "cell_type": "code",
      "metadata": {
        "colab": {
          "base_uri": "https://localhost:8080/"
        },
        "id": "aV40L0ICrEPm",
        "outputId": "a9c4ab4e-88d8-4a46-b19f-6eeb0e7c56de"
      },
      "source": [
        "re.findall(r\"man|woman\", text)"
      ],
      "execution_count": null,
      "outputs": [
        {
          "output_type": "execute_result",
          "data": {
            "text/plain": [
              "['man', 'woman']"
            ]
          },
          "metadata": {
            "tags": []
          },
          "execution_count": 26
        }
      ]
    },
    {
      "cell_type": "markdown",
      "metadata": {
        "id": "cwJ3c84CrEPm"
      },
      "source": [
        "## The wildcard character"
      ]
    },
    {
      "cell_type": "markdown",
      "metadata": {
        "id": "Erf-cFQ_rEPm"
      },
      "source": [
        "We can use a wildcard to find any occurrance of a character in place of the wildcard. The example below describes how to search for any words that end with **at** and include one letter."
      ]
    },
    {
      "cell_type": "code",
      "metadata": {
        "colab": {
          "base_uri": "https://localhost:8080/"
        },
        "id": "pwpRCqqTrEPm",
        "outputId": "09715c30-db6a-4b4c-8ad5-51ee65ddad3c"
      },
      "source": [
        "text =(r\"The cat sat on the mat.\")\n",
        "# The \".\" represents a wildcard. \n",
        "# Therefore any word matching a leter + \"at\" will be selected.\n",
        "re.findall(r\".at\", text)"
      ],
      "execution_count": 66,
      "outputs": [
        {
          "output_type": "execute_result",
          "data": {
            "text/plain": [
              "['cat', 'sat', 'mat']"
            ]
          },
          "metadata": {
            "tags": []
          },
          "execution_count": 66
        }
      ]
    },
    {
      "cell_type": "markdown",
      "metadata": {
        "id": "y10OHnY2rEPm"
      },
      "source": [
        "If I change the text to contain the word **splat**, the search term will only find part of the word **splat** because of the single **.** in the search term. "
      ]
    },
    {
      "cell_type": "code",
      "metadata": {
        "colab": {
          "base_uri": "https://localhost:8080/"
        },
        "id": "8OZXT3DtrEPn",
        "outputId": "fafbeb2d-2396-4874-9b5b-713950040096"
      },
      "source": [
        "text =(r\"The cat sat on the mat and then went splat.\")\n",
        "re.findall(r\".at\", text)"
      ],
      "execution_count": 67,
      "outputs": [
        {
          "output_type": "execute_result",
          "data": {
            "text/plain": [
              "['cat', 'sat', 'mat', 'lat']"
            ]
          },
          "metadata": {
            "tags": []
          },
          "execution_count": 67
        }
      ]
    },
    {
      "cell_type": "markdown",
      "metadata": {
        "id": "t1WHqKIhrEPn"
      },
      "source": [
        "I can improve on the search to find any two characters before **at** text. Notice that the output picks up the space before **cat**, **sat** and **mat**"
      ]
    },
    {
      "cell_type": "code",
      "metadata": {
        "colab": {
          "base_uri": "https://localhost:8080/"
        },
        "id": "ukQSuKXprEPn",
        "outputId": "e88cfd11-cdd6-4f42-d335-8b2f39a86901"
      },
      "source": [
        "text =(r\"The cat sat on the mat and then went splat.\")\n",
        "re.findall(r\"..at\", text)"
      ],
      "execution_count": 68,
      "outputs": [
        {
          "output_type": "execute_result",
          "data": {
            "text/plain": [
              "[' cat', ' sat', ' mat', 'plat']"
            ]
          },
          "metadata": {
            "tags": []
          },
          "execution_count": 68
        }
      ]
    },
    {
      "cell_type": "markdown",
      "metadata": {
        "id": "9Kql4bk7rEPn"
      },
      "source": [
        "## Starts with and ends with"
      ]
    },
    {
      "cell_type": "markdown",
      "metadata": {
        "id": "J13Exbr_rEPo"
      },
      "source": [
        "We can check to see if text starts or ends with a particular character. We use the **^** and **$** symbols to find these. \n",
        "\n",
        "For example if we want to find any occurance of a particular number at the end of a sentence then we use the **$** sign."
      ]
    },
    {
      "cell_type": "code",
      "metadata": {
        "colab": {
          "base_uri": "https://localhost:8080/"
        },
        "id": "VynkiyLxrEPo",
        "outputId": "f334324c-a957-457c-eb54-45073478d2b7"
      },
      "source": [
        "re.findall(r\"\\d$\", \"All rooms on the second floor in LYIT end with a 2\")"
      ],
      "execution_count": 69,
      "outputs": [
        {
          "output_type": "execute_result",
          "data": {
            "text/plain": [
              "['2']"
            ]
          },
          "metadata": {
            "tags": []
          },
          "execution_count": 69
        }
      ]
    },
    {
      "cell_type": "markdown",
      "metadata": {
        "id": "R8FBYHgUrEPo"
      },
      "source": [
        "Note that this will only find digits if they are the final element of the search string. It will not work if a **.** is the final character. For example, this does not work."
      ]
    },
    {
      "cell_type": "code",
      "metadata": {
        "colab": {
          "base_uri": "https://localhost:8080/"
        },
        "id": "zluDhHVHrEPo",
        "outputId": "a82236d7-789c-4166-81b5-9c73d6e387f3"
      },
      "source": [
        "re.findall(r\"\\d$\", \"All rooms on the second floor in LYIT end with a 2.\")"
      ],
      "execution_count": 70,
      "outputs": [
        {
          "output_type": "execute_result",
          "data": {
            "text/plain": [
              "[]"
            ]
          },
          "metadata": {
            "tags": []
          },
          "execution_count": 70
        }
      ]
    },
    {
      "cell_type": "markdown",
      "metadata": {
        "id": "ktWMW34TrEPp"
      },
      "source": [
        "Similarly, we can check whether a sentence begins with a digit using the **^** symbol. Here's an example"
      ]
    },
    {
      "cell_type": "code",
      "metadata": {
        "colab": {
          "base_uri": "https://localhost:8080/"
        },
        "id": "8fEH6V7FrEPp",
        "outputId": "ca25dc4d-017e-4119-95fb-097bd911449a"
      },
      "source": [
        "re.findall(r\"^\\d\", \"1 divided by 0 gives an error.\")"
      ],
      "execution_count": null,
      "outputs": [
        {
          "output_type": "execute_result",
          "data": {
            "text/plain": [
              "['1']"
            ]
          },
          "metadata": {
            "tags": []
          },
          "execution_count": 32
        }
      ]
    },
    {
      "cell_type": "markdown",
      "metadata": {
        "id": "d_qVfI8nrEPp"
      },
      "source": [
        "Note that both these options check an entire string and not individual words."
      ]
    },
    {
      "cell_type": "markdown",
      "metadata": {
        "id": "0izWh1qjrEPp"
      },
      "source": [
        "We can exclude numbers from a string using the **[]** symbols. Anything inside the square brackets will be excluded from the search result.\n",
        "\n",
        "Here's an example:"
      ]
    },
    {
      "cell_type": "code",
      "metadata": {
        "colab": {
          "base_uri": "https://localhost:8080/"
        },
        "id": "PEuebmE8rEPp",
        "outputId": "500c15fb-5658-4d2e-9301-ca20266032f3"
      },
      "source": [
        "# Here's a search phrase including several numbers\n",
        "search_phrase = \"There are 3 numbers within this sentence. The first 1 is 3, the 2nd is 6, and the 3rd is 9.\"\n",
        "# Everything within the square brackets will be excluded from the result\n",
        "re.findall(r\"[^\\d]\", search_phrase)"
      ],
      "execution_count": null,
      "outputs": [
        {
          "output_type": "execute_result",
          "data": {
            "text/plain": [
              "['T',\n",
              " 'h',\n",
              " 'e',\n",
              " 'r',\n",
              " 'e',\n",
              " ' ',\n",
              " 'a',\n",
              " 'r',\n",
              " 'e',\n",
              " ' ',\n",
              " ' ',\n",
              " 'n',\n",
              " 'u',\n",
              " 'm',\n",
              " 'b',\n",
              " 'e',\n",
              " 'r',\n",
              " 's',\n",
              " ' ',\n",
              " 'w',\n",
              " 'i',\n",
              " 't',\n",
              " 'h',\n",
              " 'i',\n",
              " 'n',\n",
              " ' ',\n",
              " 't',\n",
              " 'h',\n",
              " 'i',\n",
              " 's',\n",
              " ' ',\n",
              " 's',\n",
              " 'e',\n",
              " 'n',\n",
              " 't',\n",
              " 'e',\n",
              " 'n',\n",
              " 'c',\n",
              " 'e',\n",
              " '.',\n",
              " ' ',\n",
              " 'T',\n",
              " 'h',\n",
              " 'e',\n",
              " ' ',\n",
              " 'f',\n",
              " 'i',\n",
              " 'r',\n",
              " 's',\n",
              " 't',\n",
              " ' ',\n",
              " ' ',\n",
              " 'i',\n",
              " 's',\n",
              " ' ',\n",
              " ',',\n",
              " ' ',\n",
              " 't',\n",
              " 'h',\n",
              " 'e',\n",
              " ' ',\n",
              " 'n',\n",
              " 'd',\n",
              " ' ',\n",
              " 'i',\n",
              " 's',\n",
              " ' ',\n",
              " ',',\n",
              " ' ',\n",
              " 'a',\n",
              " 'n',\n",
              " 'd',\n",
              " ' ',\n",
              " 't',\n",
              " 'h',\n",
              " 'e',\n",
              " ' ',\n",
              " 'r',\n",
              " 'd',\n",
              " ' ',\n",
              " 'i',\n",
              " 's',\n",
              " ' ',\n",
              " '.']"
            ]
          },
          "metadata": {
            "tags": []
          },
          "execution_count": 33
        }
      ]
    },
    {
      "cell_type": "markdown",
      "metadata": {
        "id": "SRSlZXJqrEPq"
      },
      "source": [
        "To get only the words out of a sentence and remove punctuation, we can use the **+** symbol to exclude all within the square brackets. This is really useful within NLP.\n",
        "\n",
        "Lets look at an example:"
      ]
    },
    {
      "cell_type": "code",
      "metadata": {
        "colab": {
          "base_uri": "https://localhost:8080/"
        },
        "id": "sIzP_YsvrEPq",
        "outputId": "9c2bdc5c-ddb4-4e32-edae-d0f75e3b1a73"
      },
      "source": [
        "search_phrase = \"There are lots of punctuation within this sentence! And I would like to remove it! But how can I do that?\"\n",
        "re.findall(r\"[^.!?]+\", search_phrase)"
      ],
      "execution_count": null,
      "outputs": [
        {
          "output_type": "execute_result",
          "data": {
            "text/plain": [
              "['There are lots of punctuation within this sentence',\n",
              " ' And I would like to remove it',\n",
              " ' But how can I do that']"
            ]
          },
          "metadata": {
            "tags": []
          },
          "execution_count": 34
        }
      ]
    },
    {
      "cell_type": "markdown",
      "metadata": {
        "id": "hW8ElXXurEPq"
      },
      "source": [
        "The string is now broken into sections, based on what is found within the square brackets. Each break occurs when there is a match for a character within the square brackets. \n",
        "\n",
        "For example, if I remove the **!** from the square brackets, then sentences ending in a **!** will not have this character removed. And these sentences will remain as one sentence.\n"
      ]
    },
    {
      "cell_type": "code",
      "metadata": {
        "colab": {
          "base_uri": "https://localhost:8080/"
        },
        "id": "Hrkpvq4RrEPq",
        "outputId": "c14ce610-2dfd-4ef6-8eed-e00ff02e0b0d"
      },
      "source": [
        "re.findall(r\"[^.?]+\", search_phrase)"
      ],
      "execution_count": null,
      "outputs": [
        {
          "output_type": "execute_result",
          "data": {
            "text/plain": [
              "['There are lots of punctuation within this sentence! And I would like to remove it! But how can I do that']"
            ]
          },
          "metadata": {
            "tags": []
          },
          "execution_count": 35
        }
      ]
    },
    {
      "cell_type": "markdown",
      "metadata": {
        "id": "0dv4iTdxrEPq"
      },
      "source": [
        "We can use the **+** with grouping to find any number of a search term. \n",
        "\n",
        "Let's use this feature to find hyphenated words in a sentence. I'm going to use the **\\w** to find any number of alphanumeric text. refer to the table above if you do not understyand why I am using **\\w** for alphanumeric text. Note that the full stop is not included as an alphanumeric character. And I do not need to specify how long each character will need to be."
      ]
    },
    {
      "cell_type": "code",
      "metadata": {
        "colab": {
          "base_uri": "https://localhost:8080/"
        },
        "id": "b9LZm8UBrEPq",
        "outputId": "abef47b7-7d87-473e-a3b6-ed4a43a921d0"
      },
      "source": [
        "search_phrase = \"Here is a sentence with some hyphen-words. I want to remove any long-ish words and hyphen-words.\"\n",
        "# Using the \"+\" symbol allows for any length of alphanumeric word to be found.\n",
        "# The \"-\" symbol is part of the pattern ie \"an alphanumeric word - an alhanumeric word\".\n",
        "re.findall(r\"[\\w]+-[\\w]+\", search_phrase)"
      ],
      "execution_count": null,
      "outputs": [
        {
          "output_type": "execute_result",
          "data": {
            "text/plain": [
              "['hyphen-words', 'long-ish', 'hyphen-words']"
            ]
          },
          "metadata": {
            "tags": []
          },
          "execution_count": 36
        }
      ]
    },
    {
      "cell_type": "markdown",
      "metadata": {
        "id": "NYzj0IP4rEPr"
      },
      "source": [
        "## Parentheses for Multiple Options\n",
        "\n",
        "If we have multiple options for matching within a word, we can use parentheses to list out these options. For Example:"
      ]
    },
    {
      "cell_type": "code",
      "metadata": {
        "id": "gkmro0x_rEPr"
      },
      "source": [
        "# Find words that start with cat and end with one of these options: 'fish','nap', or 'claw'\n",
        "text = \"Hello, would you like some catfish?\"\n",
        "texttwo = \"Hello, would you like to take a catnap?\"\n",
        "textthree = \"Hello, have you seen this caterpillar?\""
      ],
      "execution_count": 41,
      "outputs": []
    },
    {
      "cell_type": "code",
      "metadata": {
        "colab": {
          "base_uri": "https://localhost:8080/"
        },
        "id": "j6W87FderEPr",
        "outputId": "6ded5d0b-94da-41ff-cc3f-96e11ca2c49b"
      },
      "source": [
        "re.search(r\"cat(fish|nap|claw)\",text)"
      ],
      "execution_count": 42,
      "outputs": [
        {
          "output_type": "execute_result",
          "data": {
            "text/plain": [
              "<re.Match object; span=(27, 34), match='catfish'>"
            ]
          },
          "metadata": {
            "tags": []
          },
          "execution_count": 42
        }
      ]
    },
    {
      "cell_type": "code",
      "metadata": {
        "colab": {
          "base_uri": "https://localhost:8080/"
        },
        "id": "Tvh-TrUVrEPr",
        "outputId": "4da00f78-2545-4e24-ccf1-a521a0f91e77"
      },
      "source": [
        "re.search(r'cat(fish|nap|claw)',texttwo)"
      ],
      "execution_count": 43,
      "outputs": [
        {
          "output_type": "execute_result",
          "data": {
            "text/plain": [
              "<re.Match object; span=(32, 38), match='catnap'>"
            ]
          },
          "metadata": {
            "tags": []
          },
          "execution_count": 43
        }
      ]
    },
    {
      "cell_type": "code",
      "metadata": {
        "id": "xte-K8ABrEPr"
      },
      "source": [
        "# None returned\n",
        "re.search(r'cat(fish|nap|claw)',textthree)"
      ],
      "execution_count": 45,
      "outputs": []
    }
  ]
}