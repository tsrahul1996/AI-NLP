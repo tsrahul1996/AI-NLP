{
  "nbformat": 4,
  "nbformat_minor": 0,
  "metadata": {
    "kernelspec": {
      "display_name": "Python 3",
      "language": "python",
      "name": "python3"
    },
    "language_info": {
      "codemirror_mode": {
        "name": "ipython",
        "version": 3
      },
      "file_extension": ".py",
      "mimetype": "text/x-python",
      "name": "python",
      "nbconvert_exporter": "python",
      "pygments_lexer": "ipython3",
      "version": "3.7.4"
    },
    "colab": {
      "name": "Practical 1c - Manipulating text files.ipynb",
      "provenance": [],
      "collapsed_sections": []
    }
  },
  "cells": [
    {
      "cell_type": "markdown",
      "metadata": {
        "id": "q0XnmQ9k33cd"
      },
      "source": [
        "# Manipulating text files\n",
        "\n",
        "Python uses file objects to interact with external files on your computer. These file objects can be any sort of file such as audio, text, emails, Excel etc. \n",
        "\n",
        "<strong> Note: </strong> You will probably need to install particular libraries or modules to interact with those various file types, but they are easily available.\n",
        "\n",
        "Python has a built-in open function that allows us to open and edit basic file types. \n",
        "\n",
        "\n",
        "## Creating a File with IPython\n",
        "This function is specific to jupyter notebooks. I will create a basic text file and add some text to it."
      ]
    },
    {
      "cell_type": "code",
      "metadata": {
        "id": "xrtR7D-X33cf",
        "colab": {
          "base_uri": "https://localhost:8080/"
        },
        "outputId": "7de71dd2-a4f8-481d-c466-9360ecd2e620"
      },
      "source": [
        "from google.colab import drive\n",
        "drive.mount('/content/gdrive')\n",
        "\n",
        "file1 = open(\"/content/gdrive/My Drive/mytextfile.txt\", \"w\")\n",
        "\n",
        "contents = \"This is the first line of my new text file.\\nThis is the second line of the text file.\"\n",
        "\n",
        "file1.write(contents)\n",
        "\n",
        "file1.close()"
      ],
      "execution_count": 1,
      "outputs": [
        {
          "output_type": "stream",
          "text": [
            "Mounted at /content/gdrive\n"
          ],
          "name": "stdout"
        }
      ]
    },
    {
      "cell_type": "markdown",
      "metadata": {
        "id": "ShoHBZ5W33cg"
      },
      "source": [
        "A text file should now be created in your Google Drive."
      ]
    },
    {
      "cell_type": "markdown",
      "metadata": {
        "id": "o-3bcTFI33ch"
      },
      "source": [
        "Knowing the Google Drive path you are working in is important when opening a file that is saved in the same location as your notebook. Of course we can open a file from any location, and not just the working directory of the jupyter notebook.\n"
      ]
    },
    {
      "cell_type": "markdown",
      "metadata": {
        "id": "6Io8pkcF33ch"
      },
      "source": [
        "I'm going to work on the text file called <strong> mytextfile.txt </strong> that I created earlier."
      ]
    },
    {
      "cell_type": "code",
      "metadata": {
        "id": "OAAwM2Mj33ch"
      },
      "source": [
        "# Open the mytextfile.txt file I created earlier\n",
        "my_text_file = open(\"/content/gdrive/My Drive/mytextfile.txt\")"
      ],
      "execution_count": 2,
      "outputs": []
    },
    {
      "cell_type": "markdown",
      "metadata": {
        "id": "4LgrlZrj33ci"
      },
      "source": [
        "Let's examine some details about this text file"
      ]
    },
    {
      "cell_type": "code",
      "metadata": {
        "id": "xmH-xwS633ci",
        "colab": {
          "base_uri": "https://localhost:8080/"
        },
        "outputId": "fc2d9cc3-b7ef-4155-af3e-b1ea508c174c"
      },
      "source": [
        "my_text_file"
      ],
      "execution_count": 3,
      "outputs": [
        {
          "output_type": "execute_result",
          "data": {
            "text/plain": [
              "<_io.TextIOWrapper name='/content/gdrive/My Drive/mytextfile.txt' mode='r' encoding='UTF-8'>"
            ]
          },
          "metadata": {
            "tags": []
          },
          "execution_count": 3
        }
      ]
    },
    {
      "cell_type": "markdown",
      "metadata": {
        "id": "2JVJCQPU33ci"
      },
      "source": [
        "This feedback from the interpreter means we're using a wrapper to open the file that has opened the text file in a <strong> read-only </strong> mode. It is now an open file object held in memory. \n",
        "\n",
        "We'll perform some reading and writing exercises, and then we have to close the file to free up memory."
      ]
    },
    {
      "cell_type": "markdown",
      "metadata": {
        "id": "HiZ1U6ee33cj"
      },
      "source": [
        "## Reading and seeking"
      ]
    },
    {
      "cell_type": "markdown",
      "metadata": {
        "id": "9F36a8yU33cj"
      },
      "source": [
        "Lets first read the file."
      ]
    },
    {
      "cell_type": "code",
      "metadata": {
        "id": "i4vhmLtd33cj",
        "colab": {
          "base_uri": "https://localhost:8080/",
          "height": 35
        },
        "outputId": "6414092c-7ce6-4ca3-ef4c-37af97972bdf"
      },
      "source": [
        "my_text_file.read()"
      ],
      "execution_count": 4,
      "outputs": [
        {
          "output_type": "execute_result",
          "data": {
            "application/vnd.google.colaboratory.intrinsic+json": {
              "type": "string"
            },
            "text/plain": [
              "'This is the first line of my new text file.\\nThis is the second line of the text file.'"
            ]
          },
          "metadata": {
            "tags": []
          },
          "execution_count": 4
        }
      ]
    },
    {
      "cell_type": "markdown",
      "metadata": {
        "id": "ULtosXFF33ck"
      },
      "source": [
        "If I try to open the file again, something unexpected happens."
      ]
    },
    {
      "cell_type": "code",
      "metadata": {
        "id": "38ZHFvBE33ck",
        "colab": {
          "base_uri": "https://localhost:8080/",
          "height": 35
        },
        "outputId": "b256957e-4ded-4df6-ada8-349598361259"
      },
      "source": [
        "# What happens if we try to read it again?\n",
        "my_text_file.read()"
      ],
      "execution_count": 5,
      "outputs": [
        {
          "output_type": "execute_result",
          "data": {
            "application/vnd.google.colaboratory.intrinsic+json": {
              "type": "string"
            },
            "text/plain": [
              "''"
            ]
          },
          "metadata": {
            "tags": []
          },
          "execution_count": 5
        }
      ]
    },
    {
      "cell_type": "markdown",
      "metadata": {
        "id": "z5zFVUD333ck"
      },
      "source": [
        "This happens because the reading <strong> cursor position </strong> is at the end of the file after having read it. So there is nothing left to read. \n",
        "\n",
        "We can reset the <strong> cursor position </strong> like this, to index position 0 (start of the file)."
      ]
    },
    {
      "cell_type": "code",
      "metadata": {
        "id": "_0MPDtD033ck",
        "colab": {
          "base_uri": "https://localhost:8080/"
        },
        "outputId": "10e07181-fb68-46dc-a19d-b8d144fb7845"
      },
      "source": [
        "# Seek to the start of file (index 0)\n",
        "my_text_file.seek(0)"
      ],
      "execution_count": 6,
      "outputs": [
        {
          "output_type": "execute_result",
          "data": {
            "text/plain": [
              "0"
            ]
          },
          "metadata": {
            "tags": []
          },
          "execution_count": 6
        }
      ]
    },
    {
      "cell_type": "markdown",
      "metadata": {
        "id": "ii5lPObp33cl"
      },
      "source": [
        "This command resets the cursor position back to the beginning point of the file.\n",
        "\n",
        "Now if we try to open the file again, we should be able to re-read all of its contents."
      ]
    },
    {
      "cell_type": "code",
      "metadata": {
        "id": "MZ6NPjnO33cl",
        "colab": {
          "base_uri": "https://localhost:8080/",
          "height": 35
        },
        "outputId": "26ebafb3-85d9-4f6e-f5c0-4b8db0d23c01"
      },
      "source": [
        "my_text_file.read()"
      ],
      "execution_count": 7,
      "outputs": [
        {
          "output_type": "execute_result",
          "data": {
            "application/vnd.google.colaboratory.intrinsic+json": {
              "type": "string"
            },
            "text/plain": [
              "'This is the first line of my new text file.\\nThis is the second line of the text file.'"
            ]
          },
          "metadata": {
            "tags": []
          },
          "execution_count": 7
        }
      ]
    },
    {
      "cell_type": "markdown",
      "metadata": {
        "id": "Vl0Fq4m333cl"
      },
      "source": [
        "I can read the contents of the file into a string with this command. Make sure you reset the cursor position first with the <strong> `.seek` </strong> command, otherwise there will be nothing read into the string."
      ]
    },
    {
      "cell_type": "code",
      "metadata": {
        "id": "MCcJ3uao33cl"
      },
      "source": [
        "my_text_file.seek(0)\r\n",
        "file_contents = my_text_file.read()"
      ],
      "execution_count": 8,
      "outputs": []
    },
    {
      "cell_type": "markdown",
      "metadata": {
        "id": "G52lRK7B33cl"
      },
      "source": [
        "And I can show its contents using the print command"
      ]
    },
    {
      "cell_type": "code",
      "metadata": {
        "id": "gvAd9yTc33cm",
        "colab": {
          "base_uri": "https://localhost:8080/"
        },
        "outputId": "418658d1-b709-41ba-b942-9446d6016923"
      },
      "source": [
        "print(file_contents)"
      ],
      "execution_count": 9,
      "outputs": [
        {
          "output_type": "stream",
          "text": [
            "This is the first line of my new text file.\n",
            "This is the second line of the text file.\n"
          ],
          "name": "stdout"
        }
      ]
    },
    {
      "cell_type": "markdown",
      "metadata": {
        "id": "zmjmvx7B33cm"
      },
      "source": [
        "Then we no longer need to re-read the file contents again, and instead we can work directly with the contents of the string."
      ]
    },
    {
      "cell_type": "markdown",
      "metadata": {
        "id": "TsilhQle33cm"
      },
      "source": [
        "It is important to close any files you open. We do this using the <strong> `.close()` </strong> command."
      ]
    },
    {
      "cell_type": "code",
      "metadata": {
        "id": "AdFzCNbi33cm"
      },
      "source": [
        "my_text_file.close()"
      ],
      "execution_count": 10,
      "outputs": []
    },
    {
      "cell_type": "markdown",
      "metadata": {
        "id": "eeNcuylS33cm"
      },
      "source": [
        "## .readlines()"
      ]
    },
    {
      "cell_type": "markdown",
      "metadata": {
        "id": "Lqy_2KIa33cn"
      },
      "source": [
        "We can use the <strong> `.readlines()` </strong> command to read a file line by line. \n",
        "\n",
        "Use this command with caution with large files, since everything will be held in memory. We will learn how to iterate over large files later in this course."
      ]
    },
    {
      "cell_type": "markdown",
      "metadata": {
        "id": "nWmb5jNK33cn"
      },
      "source": [
        "I'll open the file again, and then use the .readlines() command."
      ]
    },
    {
      "cell_type": "code",
      "metadata": {
        "id": "FRkD7wYd33cn"
      },
      "source": [
        "# Read the text file again.\n",
        "# This time the readlines() command will put each new line into a \n",
        "my_text_file = open(\"/content/gdrive/My Drive/mytextfile.txt\")\n",
        "all_my_lines = my_text_file.readlines()"
      ],
      "execution_count": 11,
      "outputs": []
    },
    {
      "cell_type": "code",
      "metadata": {
        "id": "9mvQ3dOF33cn"
      },
      "source": [
        "my_text_file.close()"
      ],
      "execution_count": 12,
      "outputs": []
    },
    {
      "cell_type": "markdown",
      "metadata": {
        "id": "uHrqrjJp33cn"
      },
      "source": [
        "Now that I have the contents of the text file in individual lines, I can perform various functions on it. For example, I can use a loop to iterate through each line and print out the fourth word of each line."
      ]
    },
    {
      "cell_type": "code",
      "metadata": {
        "id": "bz-DfEou33cn",
        "colab": {
          "base_uri": "https://localhost:8080/"
        },
        "outputId": "e3e6c0b7-7890-4781-de2f-25b25c481df8"
      },
      "source": [
        "for line in all_my_lines:\n",
        "    print (line.split()[3])"
      ],
      "execution_count": 13,
      "outputs": [
        {
          "output_type": "stream",
          "text": [
            "first\n",
            "second\n"
          ],
          "name": "stdout"
        }
      ]
    },
    {
      "cell_type": "markdown",
      "metadata": {
        "id": "fm4ZjuO133co"
      },
      "source": [
        "## Writing to a File\n",
        "\n",
        "By default, the <strong> `open()` </strong> function will only allow us to read the file. We need to pass the argument `'w'` to write over the file. For example:"
      ]
    },
    {
      "cell_type": "code",
      "metadata": {
        "id": "62K0yIwH33co"
      },
      "source": [
        "my_text_file = open(\"/content/gdrive/My Drive/mytextfile.txt\", \"w+\")"
      ],
      "execution_count": 14,
      "outputs": []
    },
    {
      "cell_type": "markdown",
      "metadata": {
        "id": "pEYlqcJn33co"
      },
      "source": [
        "lets check what is now in the file"
      ]
    },
    {
      "cell_type": "code",
      "metadata": {
        "id": "yMoffUuR33co",
        "colab": {
          "base_uri": "https://localhost:8080/",
          "height": 35
        },
        "outputId": "f3c290b9-2c72-4cac-c3e3-d020d56e3332"
      },
      "source": [
        "my_text_file.read()"
      ],
      "execution_count": 15,
      "outputs": [
        {
          "output_type": "execute_result",
          "data": {
            "application/vnd.google.colaboratory.intrinsic+json": {
              "type": "string"
            },
            "text/plain": [
              "''"
            ]
          },
          "metadata": {
            "tags": []
          },
          "execution_count": 15
        }
      ]
    },
    {
      "cell_type": "markdown",
      "metadata": {
        "id": "0ZcW-K5b33co"
      },
      "source": [
        "This indicates that the text file contents have has been overwritten."
      ]
    },
    {
      "cell_type": "markdown",
      "metadata": {
        "id": "Jp99s2IO33cp"
      },
      "source": [
        "<div class=\"alert alert-danger\" style=\"margin: 20px\">Use <strong> `w+</strong> ` option with caution!<br>\n",
        "Opening a file with 'w' or 'w+' *truncates the original*, meaning that anything that was in the original file is deleted!</div>"
      ]
    },
    {
      "cell_type": "markdown",
      "metadata": {
        "id": "grSg3DQX33cp"
      },
      "source": [
        "Lets add some new text to the file and see what happens to its contents."
      ]
    },
    {
      "cell_type": "code",
      "metadata": {
        "id": "zGP9Aleo33cq",
        "colab": {
          "base_uri": "https://localhost:8080/"
        },
        "outputId": "a0cb4e40-2e05-4dfe-8324-125eec92a9df"
      },
      "source": [
        "my_text_file.write(\"This is new contents I'm adding to the text file.\")"
      ],
      "execution_count": 16,
      "outputs": [
        {
          "output_type": "execute_result",
          "data": {
            "text/plain": [
              "49"
            ]
          },
          "metadata": {
            "tags": []
          },
          "execution_count": 16
        }
      ]
    },
    {
      "cell_type": "code",
      "metadata": {
        "id": "rEiH4HKK33cq",
        "colab": {
          "base_uri": "https://localhost:8080/",
          "height": 35
        },
        "outputId": "4e2cf669-0bca-41d6-d7e4-ae8d81d84c99"
      },
      "source": [
        "# Return the indexer to the start of the file\n",
        "my_text_file.seek(0)\n",
        "my_text_file.read()"
      ],
      "execution_count": 17,
      "outputs": [
        {
          "output_type": "execute_result",
          "data": {
            "application/vnd.google.colaboratory.intrinsic+json": {
              "type": "string"
            },
            "text/plain": [
              "\"This is new contents I'm adding to the text file.\""
            ]
          },
          "metadata": {
            "tags": []
          },
          "execution_count": 17
        }
      ]
    },
    {
      "cell_type": "markdown",
      "metadata": {
        "id": "MCxHm9as33cq"
      },
      "source": [
        "The text file no longer contains the original text I entered into it earlier. It now contains new text only. Thats is because I used the text mode <strong> w+ </strong> argument when I opened the file. Rememebr that <strong> w+ </strong> allows us to read and write to the file.\n",
        "\n",
        "If we want to add text to a file, we need to append text to it."
      ]
    },
    {
      "cell_type": "code",
      "metadata": {
        "id": "BIKDt9Ua33cr"
      },
      "source": [
        "# Close the file before we continue\n",
        "my_text_file.close()"
      ],
      "execution_count": 18,
      "outputs": []
    },
    {
      "cell_type": "markdown",
      "metadata": {
        "id": "bNkCUa9o33cr"
      },
      "source": [
        "## Appending to a File\n",
        "Passing the argument `'a'` with the `open` command opens the file and puts the pointer at the end, so anything written is appended. Like `w+`, `a+` lets us read and write to a file. If the file does not exist, one will be created."
      ]
    },
    {
      "cell_type": "code",
      "metadata": {
        "id": "EBvvz3cS33cr"
      },
      "source": [
        "my_text_file = open(\"/content/gdrive/My Drive/mytextfile.txt\", \"a+\")"
      ],
      "execution_count": 19,
      "outputs": []
    },
    {
      "cell_type": "code",
      "metadata": {
        "id": "aoUaWlI433cs",
        "colab": {
          "base_uri": "https://localhost:8080/"
        },
        "outputId": "c91048bd-c491-4c3b-8cb3-e807ac2019e7"
      },
      "source": [
        "my_text_file.write(\"This is the first line of my text using the a+ option.\")"
      ],
      "execution_count": 20,
      "outputs": [
        {
          "output_type": "execute_result",
          "data": {
            "text/plain": [
              "54"
            ]
          },
          "metadata": {
            "tags": []
          },
          "execution_count": 20
        }
      ]
    },
    {
      "cell_type": "code",
      "metadata": {
        "id": "HvwaGFwD33cs"
      },
      "source": [
        "my_text_file.close()"
      ],
      "execution_count": 21,
      "outputs": []
    },
    {
      "cell_type": "markdown",
      "metadata": {
        "id": "Ouycj4AN33cs"
      },
      "source": [
        "Lets look at the contents of the file."
      ]
    },
    {
      "cell_type": "code",
      "metadata": {
        "id": "VspG0s7W33cs"
      },
      "source": [
        "my_text_file = open(\"/content/gdrive/My Drive/mytextfile.txt\")"
      ],
      "execution_count": 22,
      "outputs": []
    },
    {
      "cell_type": "code",
      "metadata": {
        "id": "aolNwoWg33ct",
        "colab": {
          "base_uri": "https://localhost:8080/",
          "height": 35
        },
        "outputId": "03aa5145-b89b-4476-9f6f-bbf979ed0bfa"
      },
      "source": [
        "my_text_file.read()"
      ],
      "execution_count": 23,
      "outputs": [
        {
          "output_type": "execute_result",
          "data": {
            "application/vnd.google.colaboratory.intrinsic+json": {
              "type": "string"
            },
            "text/plain": [
              "\"This is new contents I'm adding to the text file.This is the first line of my text using the a+ option.\""
            ]
          },
          "metadata": {
            "tags": []
          },
          "execution_count": 23
        }
      ]
    },
    {
      "cell_type": "markdown",
      "metadata": {
        "id": "vZ29QivG33ct"
      },
      "source": [
        "The `a+` option lets us write contents to the end of the file.\n",
        "\n",
        "Note that we can also press the `SHIFT` + `TAB` buttons to view more detail on the command we are using at any time. This options allows us to get more inforramtion on each of the various options availabel to us in a command. This works for all commands."
      ]
    },
    {
      "cell_type": "markdown",
      "metadata": {
        "id": "DjjYwYx933ct"
      },
      "source": [
        "What happens if I try to open a file that doesnt exist?"
      ]
    },
    {
      "cell_type": "code",
      "metadata": {
        "id": "A0fSLHbG33ct",
        "colab": {
          "base_uri": "https://localhost:8080/",
          "height": 164
        },
        "outputId": "881bc099-6728-4070-bf20-bebda06f5edd"
      },
      "source": [
        "my_text_file = open(\"/content/gdrive/My Drive/testfile.txt\")"
      ],
      "execution_count": 25,
      "outputs": [
        {
          "output_type": "error",
          "ename": "FileNotFoundError",
          "evalue": "ignored",
          "traceback": [
            "\u001b[0;31m---------------------------------------------------------------------------\u001b[0m",
            "\u001b[0;31mFileNotFoundError\u001b[0m                         Traceback (most recent call last)",
            "\u001b[0;32m<ipython-input-25-2c7f0f1780c6>\u001b[0m in \u001b[0;36m<module>\u001b[0;34m()\u001b[0m\n\u001b[0;32m----> 1\u001b[0;31m \u001b[0mmy_text_file\u001b[0m \u001b[0;34m=\u001b[0m \u001b[0mopen\u001b[0m\u001b[0;34m(\u001b[0m\u001b[0;34m\"/content/gdrive/My Drive/testfile.txt\"\u001b[0m\u001b[0;34m)\u001b[0m\u001b[0;34m\u001b[0m\u001b[0;34m\u001b[0m\u001b[0m\n\u001b[0m",
            "\u001b[0;31mFileNotFoundError\u001b[0m: [Errno 2] No such file or directory: '/content/gdrive/My Drive/testfile.txt'"
          ]
        }
      ]
    },
    {
      "cell_type": "markdown",
      "metadata": {
        "id": "o_1emXwJ33cu"
      },
      "source": [
        "The file is not automatically created because the standard mode when opening a file is `r`.\n",
        "\n",
        "We can easily resolve this issue by changing the mode to `a+`. That will then create the new file if it does not currently exist."
      ]
    },
    {
      "cell_type": "code",
      "metadata": {
        "id": "_slJc0uA33cu"
      },
      "source": [
        "my_text_file = open(\"/content/gdrive/My Drive/testfile.txt\", \"a+\")"
      ],
      "execution_count": 26,
      "outputs": []
    },
    {
      "cell_type": "markdown",
      "metadata": {
        "id": "RcvD0tPc33cu"
      },
      "source": [
        "Now I'll add some text to this new file."
      ]
    },
    {
      "cell_type": "code",
      "metadata": {
        "id": "KQURFkJn33cu",
        "colab": {
          "base_uri": "https://localhost:8080/"
        },
        "outputId": "a36e7a24-13a4-4b79-e5dd-74524feede32"
      },
      "source": [
        "my_text_file.write(\"This is the first line of text in my new file.\")"
      ],
      "execution_count": 27,
      "outputs": [
        {
          "output_type": "execute_result",
          "data": {
            "text/plain": [
              "46"
            ]
          },
          "metadata": {
            "tags": []
          },
          "execution_count": 27
        }
      ]
    },
    {
      "cell_type": "markdown",
      "metadata": {
        "id": "rQ5cQD1433cu"
      },
      "source": [
        "Now I'll close the file."
      ]
    },
    {
      "cell_type": "code",
      "metadata": {
        "id": "u0oEnp3E33cu"
      },
      "source": [
        "my_text_file.close()"
      ],
      "execution_count": 28,
      "outputs": []
    },
    {
      "cell_type": "markdown",
      "metadata": {
        "id": "EafxglLa33cv"
      },
      "source": [
        "Next I'll reopen the file, but I'll only open it with read permisisons. Remember that this is the default option when opening a file."
      ]
    },
    {
      "cell_type": "code",
      "metadata": {
        "id": "wUGHfNuL33cv"
      },
      "source": [
        "my_text_file = open(\"/content/gdrive/My Drive/testfile.txt\")"
      ],
      "execution_count": 29,
      "outputs": []
    },
    {
      "cell_type": "markdown",
      "metadata": {
        "id": "QrDcJiS_33cv"
      },
      "source": [
        "Now I'll try to write some contents to the file. **This will not work as I've not speficied which mode I'd like to read from the file, so the default `r` mode is used.**"
      ]
    },
    {
      "cell_type": "code",
      "metadata": {
        "id": "j1KofAYd33cv",
        "colab": {
          "base_uri": "https://localhost:8080/",
          "height": 164
        },
        "outputId": "b00ad6de-6373-4b8e-9219-8b86cee08a4e"
      },
      "source": [
        "my_text_file.write(\"This is a test to see if I can write to my text file.\")"
      ],
      "execution_count": 30,
      "outputs": [
        {
          "output_type": "error",
          "ename": "UnsupportedOperation",
          "evalue": "ignored",
          "traceback": [
            "\u001b[0;31m---------------------------------------------------------------------------\u001b[0m",
            "\u001b[0;31mUnsupportedOperation\u001b[0m                      Traceback (most recent call last)",
            "\u001b[0;32m<ipython-input-30-3ae4d0a74d14>\u001b[0m in \u001b[0;36m<module>\u001b[0;34m()\u001b[0m\n\u001b[0;32m----> 1\u001b[0;31m \u001b[0mmy_text_file\u001b[0m\u001b[0;34m.\u001b[0m\u001b[0mwrite\u001b[0m\u001b[0;34m(\u001b[0m\u001b[0;34m\"This is a test to see if I can write to my text file.\"\u001b[0m\u001b[0;34m)\u001b[0m\u001b[0;34m\u001b[0m\u001b[0;34m\u001b[0m\u001b[0m\n\u001b[0m",
            "\u001b[0;31mUnsupportedOperation\u001b[0m: not writable"
          ]
        }
      ]
    },
    {
      "cell_type": "markdown",
      "metadata": {
        "id": "C0jze1dr33cv"
      },
      "source": [
        "Now I'll easily fix this error. I'll close the file first, and then change the mode to `a+` to allow reading and writing  to the file."
      ]
    },
    {
      "cell_type": "code",
      "metadata": {
        "id": "TFkH2-0333cv"
      },
      "source": [
        "my_text_file.close()"
      ],
      "execution_count": 31,
      "outputs": []
    },
    {
      "cell_type": "code",
      "metadata": {
        "id": "a5IqhMub33cw"
      },
      "source": [
        "my_text_file = open(\"/content/gdrive/My Drive/testfile.txt\", \"a+\")"
      ],
      "execution_count": 32,
      "outputs": []
    },
    {
      "cell_type": "code",
      "metadata": {
        "id": "1SuV8Nyd33cw",
        "colab": {
          "base_uri": "https://localhost:8080/"
        },
        "outputId": "147c44e3-db88-4460-a703-c926ce733172"
      },
      "source": [
        "my_text_file.write(\"I'm adding a new line to my test text file using the a+ option.\")"
      ],
      "execution_count": 33,
      "outputs": [
        {
          "output_type": "execute_result",
          "data": {
            "text/plain": [
              "63"
            ]
          },
          "metadata": {
            "tags": []
          },
          "execution_count": 33
        }
      ]
    },
    {
      "cell_type": "markdown",
      "metadata": {
        "id": "xKBUBwRt33cw"
      },
      "source": [
        "Now I'll seek to the start of the file and then read the contents of it into a string."
      ]
    },
    {
      "cell_type": "code",
      "metadata": {
        "id": "K0EoleqF33cw",
        "colab": {
          "base_uri": "https://localhost:8080/",
          "height": 35
        },
        "outputId": "bbe9b1d7-e1c5-4635-f8c0-38349a9cf566"
      },
      "source": [
        "my_text_file.seek(0)\n",
        "my_text_file.read()"
      ],
      "execution_count": 34,
      "outputs": [
        {
          "output_type": "execute_result",
          "data": {
            "application/vnd.google.colaboratory.intrinsic+json": {
              "type": "string"
            },
            "text/plain": [
              "\"This is the first line of text in my new file.I'm adding a new line to my test text file using the a+ option.\""
            ]
          },
          "metadata": {
            "tags": []
          },
          "execution_count": 34
        }
      ]
    },
    {
      "cell_type": "markdown",
      "metadata": {
        "id": "PwyR27Zw33cw"
      },
      "source": [
        "All of the text is shown on one line of code. If I want to split each line into individual new lines, I need to add the `\\n` special charcater when I am writing text to the file. Here's an example. Note that I include the special character inside the quote marks along with the text that I'm inserting at the end of the text file."
      ]
    },
    {
      "cell_type": "code",
      "metadata": {
        "id": "cQLAJgX133cx",
        "colab": {
          "base_uri": "https://localhost:8080/"
        },
        "outputId": "8105684a-853c-4ace-c404-520d165118b8"
      },
      "source": [
        "my_text_file.write(\"\\nThis is another new line in my text file.\")"
      ],
      "execution_count": 35,
      "outputs": [
        {
          "output_type": "execute_result",
          "data": {
            "text/plain": [
              "42"
            ]
          },
          "metadata": {
            "tags": []
          },
          "execution_count": 35
        }
      ]
    },
    {
      "cell_type": "markdown",
      "metadata": {
        "id": "ZVchQhPT33cx"
      },
      "source": [
        "Now I'll reset the seek to the start of the file and read all the files contents again."
      ]
    },
    {
      "cell_type": "code",
      "metadata": {
        "id": "9H_LC5MN33cx",
        "colab": {
          "base_uri": "https://localhost:8080/",
          "height": 35
        },
        "outputId": "d9dbeee5-b260-426e-ee40-fb6cad40b01f"
      },
      "source": [
        "my_text_file.seek(0)\n",
        "my_text_file.read()"
      ],
      "execution_count": 36,
      "outputs": [
        {
          "output_type": "execute_result",
          "data": {
            "application/vnd.google.colaboratory.intrinsic+json": {
              "type": "string"
            },
            "text/plain": [
              "\"This is the first line of text in my new file.I'm adding a new line to my test text file using the a+ option.\\nThis is another new line in my text file.\""
            ]
          },
          "metadata": {
            "tags": []
          },
          "execution_count": 36
        }
      ]
    },
    {
      "cell_type": "markdown",
      "metadata": {
        "id": "WQMNuI8o33cy"
      },
      "source": [
        "to allow the special character `\\n` to work, we need to use the `print` command to show our text to the screen."
      ]
    },
    {
      "cell_type": "code",
      "metadata": {
        "id": "vSjy4G1x33cy",
        "colab": {
          "base_uri": "https://localhost:8080/"
        },
        "outputId": "fe522ec8-0542-4f51-b5e7-0c1445ea1bfb"
      },
      "source": [
        "my_text_file.seek(0)\n",
        "for line in my_text_file:\n",
        "    print (line)"
      ],
      "execution_count": 37,
      "outputs": [
        {
          "output_type": "stream",
          "text": [
            "This is the first line of text in my new file.I'm adding a new line to my test text file using the a+ option.\n",
            "\n",
            "This is another new line in my text file.\n"
          ],
          "name": "stdout"
        }
      ]
    },
    {
      "cell_type": "markdown",
      "metadata": {
        "id": "CZjP2MpD33cy"
      },
      "source": [
        "We could also show the contents of the `.read()` command directly within the `print` statement."
      ]
    },
    {
      "cell_type": "code",
      "metadata": {
        "id": "XQ9bPG7L33cz",
        "colab": {
          "base_uri": "https://localhost:8080/"
        },
        "outputId": "70c1b82b-f9ed-4edc-c12f-b219c6fdc237"
      },
      "source": [
        "my_text_file.seek(0)\n",
        "print(my_text_file.read())"
      ],
      "execution_count": 38,
      "outputs": [
        {
          "output_type": "stream",
          "text": [
            "This is the first line of text in my new file.I'm adding a new line to my test text file using the a+ option.\n",
            "This is another new line in my text file.\n"
          ],
          "name": "stdout"
        }
      ]
    },
    {
      "cell_type": "markdown",
      "metadata": {
        "id": "sEe2N4pd33cz"
      },
      "source": [
        "## Aliases and Context Managers\n",
        "We can assign temporary variable names as aliases, and manage the opening and closing of files automatically using a <strong> context manager </strong>. "
      ]
    },
    {
      "cell_type": "markdown",
      "metadata": {
        "id": "vOyNO6Dz33cz"
      },
      "source": [
        "We can use the `with` command to control access to the text file. It will automatically control access to the file, and close it when we're done with the file. This is commonly used when interacting with text files in Python.\n",
        "\n",
        "Here's an example of how to use the `with` command."
      ]
    },
    {
      "cell_type": "code",
      "metadata": {
        "id": "HT1nmgha33cz"
      },
      "source": [
        "with open(\"/content/gdrive/My Drive/testfile.txt\", \"r\") as my_text_file:\n",
        "    file_contents = my_text_file.readlines()"
      ],
      "execution_count": 39,
      "outputs": []
    },
    {
      "cell_type": "markdown",
      "metadata": {
        "id": "ksTHg8-333cz"
      },
      "source": [
        "Then we can show the contents of the text file. We dont need to issue the `.close()` command as all that is taken care of throuth the `with` context manager."
      ]
    },
    {
      "cell_type": "code",
      "metadata": {
        "id": "puxnEYi433c0",
        "colab": {
          "base_uri": "https://localhost:8080/"
        },
        "outputId": "c5438acd-cef5-47fd-fd9d-f2994e6b6718"
      },
      "source": [
        "file_contents"
      ],
      "execution_count": 40,
      "outputs": [
        {
          "output_type": "execute_result",
          "data": {
            "text/plain": [
              "[\"This is the first line of text in my new file.I'm adding a new line to my test text file using the a+ option.\\n\",\n",
              " 'This is another new line in my text file.']"
            ]
          },
          "metadata": {
            "tags": []
          },
          "execution_count": 40
        }
      ]
    },
    {
      "cell_type": "markdown",
      "metadata": {
        "id": "YJJ_-CPg33c0"
      },
      "source": [
        "Note that the `with ... as ...:` context manager automatically closed `test.txt` after assigning the first line of text to first_line:"
      ]
    },
    {
      "cell_type": "markdown",
      "metadata": {
        "id": "pn_Q1k_e33c0"
      },
      "source": [
        "## Iterating through a File"
      ]
    },
    {
      "cell_type": "code",
      "metadata": {
        "id": "qn_sjn8g33c0",
        "colab": {
          "base_uri": "https://localhost:8080/"
        },
        "outputId": "21ddb974-c4dc-4ce4-a025-9d5e3c8d38e4"
      },
      "source": [
        "with open(\"/content/gdrive/My Drive/testfile.txt\", \"r\") as my_text_file:\n",
        "    for line in my_text_file:\n",
        "        print(line, end=\"\")  # the end=\"\" argument removes extra linebreaks"
      ],
      "execution_count": 41,
      "outputs": [
        {
          "output_type": "stream",
          "text": [
            "This is the first line of text in my new file.I'm adding a new line to my test text file using the a+ option.\n",
            "This is another new line in my text file."
          ],
          "name": "stdout"
        }
      ]
    }
  ]
}