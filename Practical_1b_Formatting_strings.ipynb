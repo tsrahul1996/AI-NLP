{
  "nbformat": 4,
  "nbformat_minor": 0,
  "metadata": {
    "kernelspec": {
      "display_name": "Python 3",
      "language": "python",
      "name": "python3"
    },
    "language_info": {
      "codemirror_mode": {
        "name": "ipython",
        "version": 3
      },
      "file_extension": ".py",
      "mimetype": "text/x-python",
      "name": "python",
      "nbconvert_exporter": "python",
      "pygments_lexer": "ipython3",
      "version": "3.7.4"
    },
    "colab": {
      "name": "Practical 1b - Formatting strings.ipynb",
      "provenance": [],
      "collapsed_sections": []
    }
  },
  "cells": [
    {
      "cell_type": "markdown",
      "metadata": {
        "id": "kN4V1LC53d04"
      },
      "source": [
        "# Formatting strings\n",
        "In this section I'll examine\n",
        " * Working with f-strings (formatted string literals) to format printed text\n",
        " "
      ]
    },
    {
      "cell_type": "markdown",
      "metadata": {
        "id": "qFcOJRzh3d05"
      },
      "source": [
        "## Formatted String Literals (f-strings)\n",
        "\n",
        "Introduced in Python 3.6, <strong>f-strings</strong> offer several benefits over the older `.format()` string method. <br>Now you can bring outside variables immediately into to the string rather than pass them through as keyword arguments:\n",
        "<br> Let's look at some examples:"
      ]
    },
    {
      "cell_type": "markdown",
      "metadata": {
        "id": "Y9issI513d06"
      },
      "source": [
        "This is how text used to be manipulated in Python."
      ]
    },
    {
      "cell_type": "code",
      "metadata": {
        "colab": {
          "base_uri": "https://localhost:8080/"
        },
        "id": "KpM_CXI-3d06",
        "outputId": "b65f29d7-eef2-4741-a1e0-d7a2163a7b57"
      },
      "source": [
        "person = \"James\"\n",
        "# Insert name contents in place of curly braces\n",
        "print (\"My name is {}\".format(person))"
      ],
      "execution_count": 1,
      "outputs": [
        {
          "output_type": "stream",
          "text": [
            "My name is James\n"
          ],
          "name": "stdout"
        }
      ]
    },
    {
      "cell_type": "markdown",
      "metadata": {
        "id": "AJX87qF-3d07"
      },
      "source": [
        "Now we can use f-strings."
      ]
    },
    {
      "cell_type": "code",
      "metadata": {
        "colab": {
          "base_uri": "https://localhost:8080/"
        },
        "id": "o00AtzQV3d07",
        "outputId": "781bf9ec-2d40-41d3-8b73-91335b88698f"
      },
      "source": [
        "# f in front of the string removes the need to use the format command\n",
        "print(f\"My name is {person}\")"
      ],
      "execution_count": 2,
      "outputs": [
        {
          "output_type": "stream",
          "text": [
            "My name is James\n"
          ],
          "name": "stdout"
        }
      ]
    },
    {
      "cell_type": "markdown",
      "metadata": {
        "id": "3jKDG8mi3d08"
      },
      "source": [
        "Not inserting the **f** in the command causes the exact string to be printed"
      ]
    },
    {
      "cell_type": "code",
      "metadata": {
        "colab": {
          "base_uri": "https://localhost:8080/"
        },
        "id": "Nu0xismW3d08",
        "outputId": "c3999672-b96d-4495-eb50-372421bc19d1"
      },
      "source": [
        "print(\"My name is {person}\")"
      ],
      "execution_count": 3,
      "outputs": [
        {
          "output_type": "stream",
          "text": [
            "My name is {person}\n"
          ],
          "name": "stdout"
        }
      ]
    },
    {
      "cell_type": "markdown",
      "metadata": {
        "id": "qp2PSwMy3d09"
      },
      "source": [
        "Passing in `!r` will give us the <strong>string representation</strong>:"
      ]
    },
    {
      "cell_type": "code",
      "metadata": {
        "colab": {
          "base_uri": "https://localhost:8080/"
        },
        "id": "nH9Pa7A43d09",
        "outputId": "4a1c1198-b348-4de0-a4a0-ac631f7172c6"
      },
      "source": [
        "print(f\"His name is {person!r}\")"
      ],
      "execution_count": 4,
      "outputs": [
        {
          "output_type": "stream",
          "text": [
            "His name is 'James'\n"
          ],
          "name": "stdout"
        }
      ]
    },
    {
      "cell_type": "markdown",
      "metadata": {
        "id": "5521IQFa3d0-"
      },
      "source": [
        "We can also show the contents of lists, dictionaries etc using an f-string. <br> Here's an example."
      ]
    },
    {
      "cell_type": "code",
      "metadata": {
        "colab": {
          "base_uri": "https://localhost:8080/"
        },
        "id": "3ChL5JpG3d0-",
        "outputId": "15bda990-c474-4555-d28b-1b6178ef2fb9"
      },
      "source": [
        "list = [23, 45, 67, 98]\n",
        "print(f\"The third number on the list is {list[2]}\")"
      ],
      "execution_count": 5,
      "outputs": [
        {
          "output_type": "stream",
          "text": [
            "The third number on the list is 67\n"
          ],
          "name": "stdout"
        }
      ]
    },
    {
      "cell_type": "markdown",
      "metadata": {
        "id": "2JQ2CuMR3d0_"
      },
      "source": [
        "## Minimum Widths, Alignment and Padding\n",
        "You can pass arguments inside a nested set of curly braces to set a minimum width for the field, the alignment and even padding characters.\n",
        "<br> Here I'm creating a list called library and each library record contains 3 pieces of informtion - author, topic and pages."
      ]
    },
    {
      "cell_type": "code",
      "metadata": {
        "id": "XbmwCKoM3d0_"
      },
      "source": [
        "library = [('Author', 'Topic', 'Pages'), \n",
        "           ('Twain', 'Rafting', 601), \n",
        "           ('Feynman', 'Physics', 95), \n",
        "           ('Hamilton', 'Mythology', 144)]"
      ],
      "execution_count": 6,
      "outputs": []
    },
    {
      "cell_type": "markdown",
      "metadata": {
        "id": "GFNkjjhL3d0_"
      },
      "source": [
        "I can display this information using a <strong> FOR </strong> loop."
      ]
    },
    {
      "cell_type": "code",
      "metadata": {
        "colab": {
          "base_uri": "https://localhost:8080/"
        },
        "id": "P0MByelO3d0_",
        "outputId": "14e1212a-7fc8-4427-bde4-aba0976627bd"
      },
      "source": [
        "for item in library:\n",
        "    print(f\"Author of the book is {item[0]}\")"
      ],
      "execution_count": 7,
      "outputs": [
        {
          "output_type": "stream",
          "text": [
            "Author of the book is Author\n",
            "Author of the book is Twain\n",
            "Author of the book is Feynman\n",
            "Author of the book is Hamilton\n"
          ],
          "name": "stdout"
        }
      ]
    },
    {
      "cell_type": "markdown",
      "metadata": {
        "id": "QjvGBhmr3d1A"
      },
      "source": [
        "I can also take in all three values from each record and show each one within the loop."
      ]
    },
    {
      "cell_type": "code",
      "metadata": {
        "colab": {
          "base_uri": "https://localhost:8080/"
        },
        "id": "tMgKra9z3d1A",
        "outputId": "9085ba4a-2737-4d5b-9dfe-6a881ccf67a1"
      },
      "source": [
        "for author, topic, pages in library:\n",
        "    print(f\"{author} {topic} {pages}\")"
      ],
      "execution_count": 8,
      "outputs": [
        {
          "output_type": "stream",
          "text": [
            "Author Topic Pages\n",
            "Twain Rafting 601\n",
            "Feynman Physics 95\n",
            "Hamilton Mythology 144\n"
          ],
          "name": "stdout"
        }
      ]
    },
    {
      "cell_type": "markdown",
      "metadata": {
        "id": "xd_CJPrV3d1A"
      },
      "source": [
        "The formatting isn't great. There's several things we can do to improve the look of our putput using f-string literal."
      ]
    },
    {
      "cell_type": "markdown",
      "metadata": {
        "id": "QVY-4W1Z3d1A"
      },
      "source": [
        "We can set the minimum spaces that each column should take when it is displayed."
      ]
    },
    {
      "cell_type": "code",
      "metadata": {
        "colab": {
          "base_uri": "https://localhost:8080/"
        },
        "id": "Rx7AhZqh3d1B",
        "outputId": "16d8ae69-3ce5-491e-b302-91ef53af6414"
      },
      "source": [
        "for author, topic, pages in library:\n",
        "    print(f\"{author:{15}} {topic:{20}} {pages:{10}}\")"
      ],
      "execution_count": 9,
      "outputs": [
        {
          "output_type": "stream",
          "text": [
            "Author          Topic                Pages     \n",
            "Twain           Rafting                     601\n",
            "Feynman         Physics                      95\n",
            "Hamilton        Mythology                   144\n"
          ],
          "name": "stdout"
        }
      ]
    },
    {
      "cell_type": "markdown",
      "metadata": {
        "id": "a04ajN-p3d1B"
      },
      "source": [
        "Most of the text is now aligned. However there's a problem with the <strong> Pages </strong> column. That's because we're trying to show digits underneath a text heading. We can quite easily align this issue by inserting a <strong> > </strong> between the <strong> Pages </strong> heading and the minimum spacing."
      ]
    },
    {
      "cell_type": "code",
      "metadata": {
        "colab": {
          "base_uri": "https://localhost:8080/"
        },
        "id": "oI79wGHV3d1B",
        "outputId": "f6b07546-67f8-4d6f-8991-4f312defdb34"
      },
      "source": [
        "for author, topic, pages in library:\n",
        "    print(f\"{author:{15}} {topic:{20}} {pages:>{10}}\")"
      ],
      "execution_count": 10,
      "outputs": [
        {
          "output_type": "stream",
          "text": [
            "Author          Topic                     Pages\n",
            "Twain           Rafting                     601\n",
            "Feynman         Physics                      95\n",
            "Hamilton        Mythology                   144\n"
          ],
          "name": "stdout"
        }
      ]
    },
    {
      "cell_type": "markdown",
      "metadata": {
        "id": "LVoa9JVS3d1B"
      },
      "source": [
        "We can also fill in the white space below the <strong> Pages </strong> column by adding the character we want as shown here."
      ]
    },
    {
      "cell_type": "code",
      "metadata": {
        "colab": {
          "base_uri": "https://localhost:8080/"
        },
        "id": "axwqbfQZ3d1C",
        "outputId": "5e627cfd-c811-49cc-eabb-213873c40f5c"
      },
      "source": [
        "for author, topic, pages in library:\n",
        "    print(f\"{author:{15}} {topic:{20}} {pages:.>{10}}\")"
      ],
      "execution_count": 11,
      "outputs": [
        {
          "output_type": "stream",
          "text": [
            "Author          Topic                .....Pages\n",
            "Twain           Rafting              .......601\n",
            "Feynman         Physics              ........95\n",
            "Hamilton        Mythology            .......144\n"
          ],
          "name": "stdout"
        }
      ]
    },
    {
      "cell_type": "markdown",
      "metadata": {
        "id": "V4VfhXtw3d1C"
      },
      "source": [
        "We'll cover formatting later on in the module."
      ]
    },
    {
      "cell_type": "markdown",
      "metadata": {
        "id": "nue4jq_m3d1C"
      },
      "source": [
        "## Date Formatting"
      ]
    },
    {
      "cell_type": "code",
      "metadata": {
        "scrolled": true,
        "colab": {
          "base_uri": "https://localhost:8080/"
        },
        "id": "u0sBLKVM3d1C",
        "outputId": "3102851a-24b5-426f-8c9b-dcfac52f4b3a"
      },
      "source": [
        "from datetime import datetime\n",
        "\n",
        "today = datetime(year=2020, month=3, day=1)\n",
        "\n",
        "print(f\"{today:%B %d, %Y}\")"
      ],
      "execution_count": 12,
      "outputs": [
        {
          "output_type": "stream",
          "text": [
            "March 01, 2020\n"
          ],
          "name": "stdout"
        }
      ]
    },
    {
      "cell_type": "markdown",
      "metadata": {
        "id": "hs6Wty7f3d1C"
      },
      "source": [
        "The default method to display a date is like this. Not only does it include year, month and day, but also hours, minutes and seconds."
      ]
    },
    {
      "cell_type": "code",
      "metadata": {
        "colab": {
          "base_uri": "https://localhost:8080/"
        },
        "id": "_sR_3nMg3d1D",
        "outputId": "9215831e-e94c-4b0c-e40d-4f887905bee8"
      },
      "source": [
        "print(f\"{today}\")"
      ],
      "execution_count": 13,
      "outputs": [
        {
          "output_type": "stream",
          "text": [
            "2020-03-01 00:00:00\n"
          ],
          "name": "stdout"
        }
      ]
    },
    {
      "cell_type": "markdown",
      "metadata": {
        "id": "j5wUarsD3d1D"
      },
      "source": [
        "We can construct a specific structure to display a date and time. The structure is available in this link http://strftime.org/. \n",
        "<br>For example, we can show the date stored in the <strong> today </strong> variable in terms of weekday followed by day of the month as a decimal value and the year including a century marker using this code."
      ]
    },
    {
      "cell_type": "code",
      "metadata": {
        "colab": {
          "base_uri": "https://localhost:8080/"
        },
        "id": "LfPXC6uU3d1D",
        "outputId": "75f4b590-4166-4d0e-bd6a-a0d0190be8d5"
      },
      "source": [
        "print(f\"{today:%A %d %B}\")"
      ],
      "execution_count": 14,
      "outputs": [
        {
          "output_type": "stream",
          "text": [
            "Sunday 01 March\n"
          ],
          "name": "stdout"
        }
      ]
    }
  ]
}